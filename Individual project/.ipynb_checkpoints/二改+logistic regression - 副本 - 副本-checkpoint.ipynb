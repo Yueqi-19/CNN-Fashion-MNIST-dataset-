{
 "cells": [
  {
   "cell_type": "markdown",
   "metadata": {},
   "source": [
    "        Data Science: A Programming Approach\n",
    "        Mahyar S Vaghefi\n",
    "        University of Texas Arlington\n",
    "        \n",
    "        This document can only be used for class studies. \n",
    "        You are not allowed to share it in any public platform."
   ]
  },
  {
   "cell_type": "markdown",
   "metadata": {},
   "source": [
    "<h1 align='center' style=\"color: blue;\">Individual Project - Fall 2020</h1>"
   ]
  },
  {
   "cell_type": "markdown",
   "metadata": {},
   "source": [
    "You need to work on a popular Fashion MNIST dataset for this project. The dataset includes tiny images of fashion pieces. The objective is to create a set of supervised learning models that can predict the type of item based on its image. You can use all different models that you learned about them in this course for yourr work. Keep in mind that this is a project, not a class assignmnet. So, not all steps are predetermined and you have more flexibility, and the final outcome is likely to be more detailed."
   ]
  },
  {
   "cell_type": "markdown",
   "metadata": {},
   "source": [
    "In order to load the dataset you need to have `tensorflow V2` on your computer. Use the following code to install the package"
   ]
  },
  {
   "cell_type": "code",
   "execution_count": 1,
   "metadata": {},
   "outputs": [],
   "source": [
    "#!pip install --upgrade tensorflow\n",
    "#!pip install keras"
   ]
  },
  {
   "cell_type": "markdown",
   "metadata": {},
   "source": [
    "You can also check the version of it using the following code."
   ]
  },
  {
   "cell_type": "code",
   "execution_count": 2,
   "metadata": {},
   "outputs": [
    {
     "data": {
      "text/plain": [
       "'2.3.1'"
      ]
     },
     "execution_count": 2,
     "metadata": {},
     "output_type": "execute_result"
    }
   ],
   "source": [
    "import tensorflow as tf\n",
    "import tensorflow as tf\n",
    "tf.compat.v1.logging.set_verbosity(tf.compat.v1.logging.ERROR)\n",
    "tf.__version__"
   ]
  },
  {
   "cell_type": "markdown",
   "metadata": {},
   "source": [
    "Now, it's time to load the dataset"
   ]
  },
  {
   "cell_type": "code",
   "execution_count": 3,
   "metadata": {},
   "outputs": [],
   "source": [
    "from tensorflow import keras\n",
    "from keras.utils import np_utils\n",
    "fashion_mnist = keras.datasets.fashion_mnist\n",
    "(X_train, y_train), (X_test, y_test) = fashion_mnist.load_data()"
   ]
  },
  {
   "cell_type": "markdown",
   "metadata": {},
   "source": [
    "As can be seen from the above code, the dataset was divided into train and test sets. Let's take a look at the X_train"
   ]
  },
  {
   "cell_type": "code",
   "execution_count": 4,
   "metadata": {},
   "outputs": [
    {
     "data": {
      "text/plain": [
       "(60000, 28, 28)"
      ]
     },
     "execution_count": 4,
     "metadata": {},
     "output_type": "execute_result"
    }
   ],
   "source": [
    "X_train.shape"
   ]
  },
  {
   "cell_type": "markdown",
   "metadata": {},
   "source": [
    "As it is clear, the train dataset (`X_train`) contains 60,000 images of size 28 x 28. We can visualize one of the images using the following code:"
   ]
  },
  {
   "cell_type": "code",
   "execution_count": 5,
   "metadata": {},
   "outputs": [
    {
     "data": {
      "image/png": "[encoded data removed]",
      "text/plain": [
       "<Figure size 432x288 with 1 Axes>"
      ]
     },
     "metadata": {
      "needs_background": "light"
     },
     "output_type": "display_data"
    }
   ],
   "source": [
    "import matplotlib as mpl\n",
    "import matplotlib.pyplot as plt\n",
    "%matplotlib inline\n",
    "\n",
    "sample_image = X_train[1]\n",
    "plt.imshow(sample_image, cmap='binary')\n",
    "plt.axis('off')\n",
    "plt.show()"
   ]
  },
  {
   "cell_type": "markdown",
   "metadata": {},
   "source": [
    "The `y_train` also includes values between 0 and 9. Each represents a particular category. For example, we can check the value of `y_train` for the above image."
   ]
  },
  {
   "cell_type": "code",
   "execution_count": 6,
   "metadata": {},
   "outputs": [
    {
     "data": {
      "text/plain": [
       "0"
      ]
     },
     "execution_count": 6,
     "metadata": {},
     "output_type": "execute_result"
    }
   ],
   "source": [
    "y_train[1]"
   ]
  },
  {
   "cell_type": "markdown",
   "metadata": {},
   "source": [
    "The above code shows that the image belongs to category 0. To get the associated label with each category, you can use the following code:"
   ]
  },
  {
   "cell_type": "code",
   "execution_count": 7,
   "metadata": {},
   "outputs": [
    {
     "name": "stdout",
     "output_type": "stream",
     "text": [
      "T-shirt/top\n"
     ]
    }
   ],
   "source": [
    "class_names = ['T-shirt/top','Trouser','Pullover','Dress','Coat','Sandal','Shirt','Sneaker','Bag','Ankle boot']\n",
    "print(class_names[y_train[1]])"
   ]
  },
  {
   "cell_type": "markdown",
   "metadata": {},
   "source": [
    "Now, it's your turn,"
   ]
  },
  {
   "cell_type": "markdown",
   "metadata": {},
   "source": [
    "\n",
    "\n",
    "<ul>\n",
    "    <li><b>Task1:</b> Use the train set to train various supervised models and evaluate their performance using the test set.</li>\n",
    "    <ul>\n",
    "        <li>Use different supervised learning models.</li>\n",
    "        <li>Use different metrics such as <b>accutacy</b>, <b>precision</b>, <b>AUC</b>, and ... in your model evaluation. </li>\n",
    "        <li>It is not enough to report the metrics. It is crucial that you interpret the metrics for each model and compare them across different models.</li>\n",
    "        <li> You may need to use the cross validation methods for hyperparameter selection.</li>\n",
    "        <li> Specify the model that outperforms the other models.</b>\n",
    "    </ul>\n",
    "    <li><b>Task2:</b> Use the best model to predict your own fashion pieces.</li>\n",
    "    <ul>\n",
    "        <li>Take a picture of five fashion pieces of your own (take pictures in square format).</li>\n",
    "        <li>Resize images to the correct size (28,28).</li>\n",
    "        <li>Grayscale your images.</li>\n",
    "        <li>Visualize all the images side by side</li>\n",
    "        <li>Use the best model in Task 1 to predict the label of each of your own images.</li>\n",
    "        <li>How accurate is the final result?</li>\n",
    "    </ul>\n",
    "</ul>"
   ]
  },
  {
   "cell_type": "markdown",
   "metadata": {},
   "source": [
    "#### Task 1"
   ]
  },
  {
   "cell_type": "code",
   "execution_count": 8,
   "metadata": {},
   "outputs": [],
   "source": [
    "#探索数据\n",
    "from keras.utils import np_utils\n",
    "from keras.models import Sequential\n",
    "from keras.layers import Dense\n",
    "from keras.optimizers import SGD\n",
    "from sklearn.metrics import classification_report"
   ]
  },
  {
   "cell_type": "code",
   "execution_count": 9,
   "metadata": {},
   "outputs": [
    {
     "name": "stdout",
     "output_type": "stream",
     "text": [
      "The shape of train_images is  (60000, 28, 28)\n",
      "The shape of train_labels is  (60000,)\n",
      "The shape of test_images is  (10000, 28, 28)\n",
      "The length of test_labels is  10000\n"
     ]
    }
   ],
   "source": [
    "print(\"The shape of train_images is \",X_train.shape)\n",
    "print(\"The shape of train_labels is \",y_train.shape)\n",
    "print(\"The shape of test_images is \",X_test.shape)\n",
    "print(\"The length of test_labels is \",len(y_test))"
   ]
  },
  {
   "cell_type": "code",
   "execution_count": 10,
   "metadata": {},
   "outputs": [
    {
     "data": {
      "image/png": "[encoded data removed]",
      "text/plain": [
       "<Figure size 432x288 with 2 Axes>"
      ]
     },
     "metadata": {
      "needs_background": "light"
     },
     "output_type": "display_data"
    }
   ],
   "source": [
    "plt.figure()\n",
    "plt.imshow(X_train[0])\n",
    "plt.colorbar()\n",
    "plt.gca().grid(False)\n",
    "plt.show()"
   ]
  },
  {
   "cell_type": "code",
   "execution_count": 11,
   "metadata": {},
   "outputs": [],
   "source": [
    "# normalize to range 0-1 将像素值缩小到 0 到 1 之间\n",
    "X_train=X_train/255.0\n",
    "X_test=X_test/255.0"
   ]
  },
  {
   "cell_type": "code",
   "execution_count": 12,
   "metadata": {},
   "outputs": [
    {
     "data": {
      "image/png": "[encoded data removed]",
      "text/plain": [
       "<Figure size 720x720 with 25 Axes>"
      ]
     },
     "metadata": {},
     "output_type": "display_data"
    }
   ],
   "source": [
    "plt.figure(figsize=(10,10))\n",
    "for i in range(25):\n",
    "    plt.subplot(5,5,i+1)\n",
    "    plt.xticks([])\n",
    "    plt.yticks([])\n",
    "    plt.grid('off')\n",
    "    plt.imshow(X_train[i],cmap=plt.cm.binary)\n",
    "    plt.xlabel(class_names[y_train[i]])\n",
    "    \n",
    "plt.show()"
   ]
  },
  {
   "cell_type": "markdown",
   "metadata": {},
   "source": [
    "- convolutional neural network"
   ]
  },
  {
   "cell_type": "code",
   "execution_count": null,
   "metadata": {
    "scrolled": true
   },
   "outputs": [
    {
     "name": "stdout",
     "output_type": "stream",
     "text": [
      "1500/1500 [==============================] - 1s 727us/step - loss: 0.5770 - accuracy: 0.8006\n",
      "375/375 [==============================] - 0s 519us/step - loss: 0.4456 - accuracy: 0.8415\n",
      "1500/1500 [==============================] - 1s 759us/step - loss: 0.5664 - accuracy: 0.8101\n",
      "375/375 [==============================] - 0s 561us/step - loss: 0.4751 - accuracy: 0.8323\n",
      "1500/1500 [==============================] - 1s 834us/step - loss: 0.5797 - accuracy: 0.8023\n",
      "375/375 [==============================] - 0s 561us/step - loss: 0.4443 - accuracy: 0.8491\n",
      "1500/1500 [==============================] - 1s 739us/step - loss: 0.5787 - accuracy: 0.8020\n",
      "375/375 [==============================] - 0s 545us/step - loss: 0.4696 - accuracy: 0.8360\n",
      "1500/1500 [==============================] - 1s 846us/step - loss: 0.5631 - accuracy: 0.8087\n",
      "375/375 [==============================] - 0s 551us/step - loss: 0.4885 - accuracy: 0.8297\n",
      "1500/1500 [==============================] - 1s 840us/step - loss: 0.5412 - accuracy: 0.8129\n",
      "375/375 [==============================] - 0s 609us/step - loss: 0.4369 - accuracy: 0.8474\n",
      "1500/1500 [==============================] - 1s 812us/step - loss: 0.5388 - accuracy: 0.8147\n",
      "375/375 [==============================] - 0s 606us/step - loss: 0.4271 - accuracy: 0.8469\n",
      "1500/1500 [==============================] - 1s 824us/step - loss: 0.5421 - accuracy: 0.8095\n",
      "375/375 [==============================] - 0s 585us/step - loss: 0.4200 - accuracy: 0.8537\n",
      "1500/1500 [==============================] - 1s 832us/step - loss: 0.5425 - accuracy: 0.8123\n",
      "375/375 [==============================] - 0s 971us/step - loss: 0.4529 - accuracy: 0.8500\n",
      "1500/1500 [==============================] - 1s 822us/step - loss: 0.5356 - accuracy: 0.8147\n",
      "375/375 [==============================] - 0s 590us/step - loss: 0.4199 - accuracy: 0.8522\n",
      "1500/1500 [==============================] - 1s 973us/step - loss: 0.5176 - accuracy: 0.8183\n",
      "375/375 [==============================] - 0s 755us/step - loss: 0.4267 - accuracy: 0.8494\n",
      "1500/1500 [==============================] - 2s 1ms/step - loss: 0.5174 - accuracy: 0.8193\n",
      "375/375 [==============================] - 0s 676us/step - loss: 0.4179 - accuracy: 0.8514\n",
      "1500/1500 [==============================] - 2s 1ms/step - loss: 0.5214 - accuracy: 0.8164\n",
      "375/375 [==============================] - 0s 644us/step - loss: 0.4195 - accuracy: 0.8540\n",
      "1500/1500 [==============================] - 2s 1ms/step - loss: 0.5166 - accuracy: 0.8189\n",
      "375/375 [==============================] - 0s 638us/step - loss: 0.4244 - accuracy: 0.8512\n",
      "1500/1500 [==============================] - 1s 993us/step - loss: 0.5201 - accuracy: 0.8185\n",
      "375/375 [==============================] - 0s 779us/step - loss: 0.4534 - accuracy: 0.8304\n",
      "1500/1500 [==============================] - 2s 1ms/step - loss: 0.5047 - accuracy: 0.8202\n",
      "375/375 [==============================] - 0s 731us/step - loss: 0.4088 - accuracy: 0.8504\n",
      "1500/1500 [==============================] - 2s 1ms/step - loss: 0.5041 - accuracy: 0.8204\n",
      "375/375 [==============================] - 0s 723us/step - loss: 0.4194 - accuracy: 0.8462\n",
      "1500/1500 [==============================] - 2s 1ms/step - loss: 0.5073 - accuracy: 0.8198\n",
      "375/375 [==============================] - 0s 912us/step - loss: 0.4152 - accuracy: 0.8562\n",
      "1500/1500 [==============================] - 2s 1ms/step - loss: 0.4996 - accuracy: 0.8239\n",
      "375/375 [==============================] - 0s 779us/step - loss: 0.4182 - accuracy: 0.8533\n",
      "1117/1500 [=====================>........] - ETA: 0s - loss: 0.5288 - accuracy: 0.8159"
     ]
    }
   ],
   "source": [
    "from sklearn.model_selection import GridSearchCV\n",
    "\n",
    "#编译模型\n",
    "def create_model(layer):\n",
    "    model = keras.Sequential([\n",
    "        keras.layers.Flatten(input_shape=(28, 28)),\n",
    "        keras.layers.Dense(layer, activation='relu'),\n",
    "        keras.layers.Dense(10, activation='softmax')\n",
    "    ])\n",
    "    model.compile(optimizer='adam', loss='sparse_categorical_crossentropy', metrics=['accuracy'])\n",
    "    return model\n",
    "\n",
    "#训练模型\n",
    "model = keras.wrappers.scikit_learn.KerasClassifier(create_model)\n",
    "param_grid = {'layer': [32, 64, 128, 256]}\n",
    "grid = GridSearchCV(estimator=model, param_grid=param_grid, n_jobs=1)\n",
    "grid_result = grid.fit(X_train,y_train)"
   ]
  },
  {
   "cell_type": "markdown",
   "metadata": {},
   "source": [
    "<p> 在模型训练期间，会显示损失和准确率指标。此模型在训练数据上的准确率达到了 0.82（或 82%）左右。</p>"
   ]
  },
  {
   "cell_type": "code",
   "execution_count": null,
   "metadata": {},
   "outputs": [],
   "source": [
    "from sklearn.metrics import accuracy_score, precision_score, recall_score,f1_score\n",
    "from sklearn.metrics import classification_report, confusion_matrix\n",
    "import sklearn.metrics as metrics\n",
    "import numpy as np\n",
    "\n",
    "##选出最好的结果训练\n",
    "\n",
    "best_model = create_model(grid_result.best_params_['layer'])\n",
    "best_model.fit(X_train, y_train)\n",
    "predict = best_model.predict(X_test)\n",
    "\n",
    "print('select the epoch where the model achieved the best accuracy. \\n In addition, you can stop the training when the accuracy is not improving, given a threshold')\n",
    "print('在模型训练期间，会显示损失和准确率指标。此模型在训练数据上的准确率达到了 0.82（或 82%）左右')\n",
    "print(\"\\n--------------------classification_report------------------\")\n",
    "\n",
    "print(metrics.classification_report (y_test, np.argmax(predict, axis = 1),target_names=class_names))\n",
    "\n",
    "\n",
    "predict = predict.argmax(1)\n",
    "cnn_cm_mnist = metrics.confusion_matrix(y_test, predict)\n",
    "\n",
    "# accuracy = accuracy_score(y_test, predict)\n",
    "# precision = precision_score(y_test, predict, average='micro')\n",
    "# recall = recall_score(y_test, predict, average='micro')\n",
    "# f1 = f1_score(y_test, predict, average='micro')\n",
    "\n",
    "\n",
    "print(\"Confusion matrix: \\n\", cnn_cm_mnist)\n",
    "\n",
    "\n",
    "#评估准确率-比较模型在测试数据集上的表现(为准)\n",
    "\n",
    "# print('\\n accuracy: ', accuracy, 'precision: ', precision, 'recall: ', recall ,'f1 :',f1)\n",
    "# print('评估准确率-比较模型在测试数据集上的表现,为85%')\n"
   ]
  },
  {
   "cell_type": "code",
   "execution_count": null,
   "metadata": {},
   "outputs": [],
   "source": [
    "# Fit the model\n",
    "\n",
    "## 开启训练\n",
    "# epochs:训练集遍历10次\n",
    "# validation_data:每个epoch就会用验证集验证\n",
    "# 会发现loss和accuracy到后面一直不变，因为用sgd梯度下降法会导致陷入局部最小值点\n",
    "# 因此将loss函数的下降方法改为 adam\n",
    "history = best_model.fit(X_train,y_train,epochs=10,validation_split=0.3)\n",
    "history_predict = best_model.predict(X_test).argmax(1)\n",
    "\n",
    "accuracy = accuracy_score(y_test, history_predict)\n",
    "precision = precision_score(y_test, history_predict, average='micro')\n",
    "recall = recall_score(y_test, history_predict, average='micro')\n",
    "f1 = f1_score(y_test, history_predict, average='micro')\n",
    "print('\\n accuracy: ', accuracy, 'precision: ', precision, 'recall: ', recall ,'f1 :',f1)\n",
    "\n",
    "#显示loss和accuracy的历史\n",
    "history.history\n",
    "\n",
    "\n",
    "# summarize history for accuracy\n",
    "plt.plot(history.history['accuracy'])\n",
    "plt.plot(history.history['val_accuracy'])\n",
    "plt.title('model accuracy')\n",
    "\n",
    "plt.ylabel('accuracy')\n",
    "plt.xlabel('epoch')\n",
    "plt.legend(['train', 'test'], loc='upper left') \n",
    "plt.show()\n",
    "\n",
    "# summarize history for loss plt.plot(history.history['loss']) plt.plot(history.history['val_loss']) plt.title('model loss')\n",
    "plt.plot(history.history['loss'])\n",
    "plt.plot(history.history['val_loss'])\n",
    "plt.title('model loss')\n",
    "plt.ylabel('loss')\n",
    "plt.xlabel('epoch')\n",
    "plt.legend(['train', 'test'], loc='upper left') \n",
    "plt.show()\n",
    "\n",
    "#plot the training loss and accuracy\n",
    "\n",
    "plt.style.use(\"ggplot\")\n",
    "plt.figure()\n",
    "plt.plot(np.arange(0, 10), history.history[\"loss\"], label=\"train_loss\")\n",
    "plt.plot(np.arange(0, 10), history.history[\"val_loss\"], label=\"val_loss\")\n",
    "plt.plot(np.arange(0, 10), history.history[\"accuracy\"], label=\"train_acc\")\n",
    "plt.plot(np.arange(0, 10), history.history[\"val_accuracy\"], label=\"val_acc\")\n",
    "\n",
    "plt.title(\"Training Loss and Accuracy on Dataset\")\n",
    "plt.xlabel(\"Epoch number \")\n",
    "plt.ylabel(\"Loss/Accuracy\")\n",
    "plt.legend(loc=\"lower left\")\n",
    "plt.savefig(\"plot.png\")\n",
    "plt.show()"
   ]
  },
  {
   "cell_type": "code",
   "execution_count": null,
   "metadata": {},
   "outputs": [],
   "source": [
    "import pandas as pd\n",
    "pd.DataFrame(history.history)"
   ]
  },
  {
   "cell_type": "code",
   "execution_count": null,
   "metadata": {},
   "outputs": [],
   "source": [
    "# Evaluate the model on the test data using `evaluate`\n",
    "print(\"Evaluate on test data\")\n",
    "results = best_model.evaluate(X_test, y_test)\n",
    "print(\"test loss, test acc:\", results)"
   ]
  },
  {
   "cell_type": "code",
   "execution_count": null,
   "metadata": {},
   "outputs": [],
   "source": [
    "import numpy as np\n",
    "history_predict = best_model.predict(X_test)\n",
    "plt.figure(figsize=(10, 10))\n",
    "for i in range(25):\n",
    "    plt.subplot(5, 5, i + 1)\n",
    "    plt.xticks([])\n",
    "    plt.yticks([])\n",
    "    plt.grid('off')\n",
    "    plt.imshow(X_test[i], cmap=plt.cm.binary)\n",
    "    predicted_label = np.argmax(history_predict[i])\n",
    "    true_label = y_test[i]\n",
    "    if predicted_label == true_label:\n",
    "        color = 'green'\n",
    "    else:\n",
    "        color = 'red'\n",
    "    plt.xlabel(\"{} ({})\".format(class_names[predicted_label],\n",
    "                                class_names[true_label]),\n",
    "               color=color)\n",
    "plt.show()"
   ]
  },
  {
   "cell_type": "markdown",
   "metadata": {},
   "source": [
    "- LogisticRegression"
   ]
  },
  {
   "cell_type": "code",
   "execution_count": 20,
   "metadata": {},
   "outputs": [],
   "source": [
    "import collections\n",
    "from sklearn import preprocessing\n",
    "from sklearn.decomposition import PCA\n",
    "import numpy as np\n",
    "import pandas as pd\n",
    "import time\n",
    "from sklearn import metrics\n",
    "from IPython.display import Markdown, display\n",
    "import random\n",
    "import matplotlib.pyplot as plt\n",
    "\n",
    "%matplotlib inline"
   ]
  },
  {
   "cell_type": "code",
   "execution_count": 21,
   "metadata": {},
   "outputs": [
    {
     "name": "stdout",
     "output_type": "stream",
     "text": [
      "Logitic regression Time: 12.76 minute\n"
     ]
    }
   ],
   "source": [
    "import warnings\n",
    "\n",
    "start = time.time()\n",
    "\n",
    "\n",
    "from sklearn.linear_model import LogisticRegression\n",
    "warnings.filterwarnings('ignore')\n",
    "\n",
    "X_train_flatten = X_train.reshape(X_train.shape[0], -1)\n",
    "param_grid= {\n",
    "    'tol': [0.0001, 0.001],\n",
    "    'max_iter': [100, 200, 300]\n",
    "}\n",
    "grid_lr = GridSearchCV(estimator=LogisticRegression(multi_class='multinomial'), param_grid=param_grid)\n",
    "grid_result_lr = grid_lr.fit(X_train_flatten, y_train)\n",
    "grid_result_lr.best_params_\n",
    "\n",
    "\n",
    "end = time.time()\n",
    "logistic_time = end-start\n",
    "print(\"Logitic regression Time: {:0.2f} minute\".format(logistic_time/60.0))"
   ]
  },
  {
   "cell_type": "code",
   "execution_count": 22,
   "metadata": {},
   "outputs": [
    {
     "name": "stdout",
     "output_type": "stream",
     "text": [
      "accuracy:  0.8403 precision:  0.8403 recall:  0.8403 F1 : 0.8403\n"
     ]
    }
   ],
   "source": [
    "X_test_flatten = X_test.reshape(X_test.shape[0], -1)\n",
    "lr_predict = grid_result.best_estimator_.predict(X_test_flatten)\n",
    "lr_accuracy = accuracy_score(y_test, lr_predict)\n",
    "lr_precision = precision_score(y_test, lr_predict, average='micro')\n",
    "lr_recall = recall_score(y_test, lr_predict, average='micro')\n",
    "lr_f1 = f1_score(y_test, lr_predict, average='micro')\n",
    "print('accuracy: ', lr_accuracy, 'precision: ', lr_precision, 'recall: ', lr_recall,'F1 :',lr_f1)"
   ]
  },
  {
   "cell_type": "markdown",
   "metadata": {},
   "source": [
    "- 杂七杂八的验证模型（SVM KNN Random Forest Decision Tree)"
   ]
  },
  {
   "cell_type": "code",
   "execution_count": null,
   "metadata": {},
   "outputs": [],
   "source": [
    "# Helper function\n",
    "# Print markdown style\n",
    "def printmd(string):\n",
    "    display(Markdown(string))\n",
    "    \n",
    "# cm is the confusion matrix, names are the names of the classes.\n",
    "def plot_confusion_matrix(cm, names, title='Confusion matrix', cmap=plt.cm.Blues):\n",
    "    plt.imshow(cm, interpolation='nearest', cmap=cmap)\n",
    "    plt.title(title)\n",
    "    plt.colorbar()\n",
    "    tick_marks = np.arange(len(names))\n",
    "    plt.xticks(tick_marks, names, rotation=90)\n",
    "    plt.yticks(tick_marks, names)\n",
    "    plt.tight_layout()\n",
    "    plt.ylabel('True label')\n",
    "    plt.xlabel('Predicted label')"
   ]
  },
  {
   "cell_type": "code",
   "execution_count": null,
   "metadata": {},
   "outputs": [],
   "source": [
    "#由三维转成2维\n",
    "X_train_1 = X_train.reshape(X_train.shape[0], -1)\n",
    "X_test_1 = X_test.reshape(X_test.shape[0], -1)\n",
    "print(X_train_1.shape)\n",
    "print(X_test_1.shape)"
   ]
  },
  {
   "cell_type": "markdown",
   "metadata": {},
   "source": [
    "- 随机森林 决策树 运行时间"
   ]
  },
  {
   "cell_type": "code",
   "execution_count": 19,
   "metadata": {},
   "outputs": [],
   "source": [
    "from sklearn.ensemble import RandomForestClassifier\n",
    "RandomForestClassifier?"
   ]
  },
  {
   "cell_type": "code",
   "execution_count": 26,
   "metadata": {},
   "outputs": [
    {
     "name": "stdout",
     "output_type": "stream",
     "text": [
      "Random Forest Time: 1.64 minute\n",
      "Decision Tree Time: 0.61 minute\n"
     ]
    }
   ],
   "source": [
    "from sklearn.svm import SVC\n",
    "from sklearn.neighbors import KNeighborsClassifier\n",
    "from sklearn.ensemble import RandomForestClassifier\n",
    "from sklearn.tree import DecisionTreeClassifier\n",
    "\n",
    "\n",
    "# Random Forest\n",
    "start1 = time.time()\n",
    "\n",
    "random_forest = RandomForestClassifier(criterion='entropy', max_depth=70, n_estimators=100)\n",
    "random_forest.fit(X_train_1, y_train)\n",
    "\n",
    "end1 = time.time()\n",
    "forest_time = end1-start1\n",
    "\n",
    "# Decision Tree\n",
    "start2 = time.time()\n",
    "\n",
    "tree = DecisionTreeClassifier(max_depth=100, criterion='entropy')\n",
    "tree.fit(X_train_1, y_train)\n",
    "\n",
    "end2 = time.time()\n",
    "tree_time = end2-start2\n",
    "\n",
    "\n",
    "print(\"Random Forest Time: {:0.2f} minute\".format(forest_time/60.0))\n",
    "print(\"Decision Tree Time: {:0.2f} minute\".format(tree_time/60.0))"
   ]
  },
  {
   "cell_type": "markdown",
   "metadata": {},
   "source": [
    "- 随机森林 决策树 K-fold 验证"
   ]
  },
  {
   "cell_type": "code",
   "execution_count": 27,
   "metadata": {},
   "outputs": [
    {
     "name": "stdout",
     "output_type": "stream",
     "text": [
      "random_forest 5-fold:\n",
      "accuracy_mean: 0.8832833333333333, precision_mean: 0.8825769774336945, recall_mean: 0.8832833333333333\n",
      "Decision Tree 5-fold:\n",
      "accuracy_mean: 0.80375, precision_mean: 0.8041779652690504, recall_mean: 0.80375\n"
     ]
    }
   ],
   "source": [
    "from sklearn.model_selection import cross_validate\n",
    "\n",
    "scoring = ['accuracy', 'precision_macro', 'recall_macro']\n",
    "k = 5\n",
    "\n",
    "random_forest_cv = cross_validate(random_forest, X_train_1, y_train, scoring=scoring, cv=k)\n",
    "rf_accuracy_mean = random_forest_cv[\"test_accuracy\"].mean()\n",
    "rf_precision_mean = random_forest_cv[\"test_precision_macro\"].mean()\n",
    "rf_recall_mean = random_forest_cv[\"test_recall_macro\"].mean()\n",
    "print(f'random_forest {k}-fold:')\n",
    "print(f'accuracy_mean: {rf_accuracy_mean}, precision_mean: {rf_precision_mean}, recall_mean: {rf_recall_mean}')\n",
    "\n",
    "\n",
    "\n",
    "tree_cv = cross_validate(tree, X_train_1, y_train, scoring=scoring, cv=k)\n",
    "tree_accuracy_mean = tree_cv[\"test_accuracy\"].mean()\n",
    "tree_precision_mean = tree_cv[\"test_precision_macro\"].mean()\n",
    "tree_recall_mean = tree_cv[\"test_recall_macro\"].mean()\n",
    "print(f'Decision Tree {k}-fold:')\n",
    "print(f'accuracy_mean: {tree_accuracy_mean}, precision_mean: {tree_precision_mean}, recall_mean: {tree_recall_mean}')"
   ]
  },
  {
   "cell_type": "markdown",
   "metadata": {},
   "source": [
    "- SVM KNN 运行时间太长了"
   ]
  },
  {
   "cell_type": "code",
   "execution_count": 28,
   "metadata": {},
   "outputs": [
    {
     "name": "stdout",
     "output_type": "stream",
     "text": [
      "SVM Time: 11.25 minute\n",
      "KNN Time: 13.27 minute\n"
     ]
    }
   ],
   "source": [
    "# SVM Model\n",
    "start3 = time.time()\n",
    "\n",
    "svc = SVC(C=1, kernel='linear', gamma=\"auto\")\n",
    "svc.fit(X_train_1, y_train)\n",
    "\n",
    "end3 = time.time()\n",
    "svm_time = end3-start3\n",
    "\n",
    "# KNN Model\n",
    "start4 = time.time()\n",
    "\n",
    "knn = KNeighborsClassifier(n_neighbors=5)\n",
    "knn.fit(X_train_1, y_train)\n",
    "y_pred_knn = knn.predict(X_test_1)\n",
    "\n",
    "end4 = time.time()\n",
    "knn_time = end4-start4\n",
    "print(\"SVM Time: {:0.2f} minute\".format(svm_time/60.0))\n",
    "print(\"KNN Time: {:0.2f} minute\".format(knn_time/60.0))"
   ]
  },
  {
   "cell_type": "markdown",
   "metadata": {},
   "source": [
    "- SVM KNN K-fold 验证"
   ]
  },
  {
   "cell_type": "code",
   "execution_count": 29,
   "metadata": {},
   "outputs": [
    {
     "name": "stdout",
     "output_type": "stream",
     "text": [
      "SVM 5-fold:\n",
      "accuracy_mean: 0.8552500000000001, precision_mean: 0.8546819771455354, recall_mean: 0.8552500000000001\n",
      "KNN 5-fold:\n",
      "accuracy_mean: 0.8540000000000001, precision_mean: 0.8568205772037777, recall_mean: 0.8540000000000001\n"
     ]
    }
   ],
   "source": [
    "from sklearn.model_selection import cross_validate\n",
    "\n",
    "scoring = ['accuracy', 'precision_macro', 'recall_macro']\n",
    "k = 5\n",
    "\n",
    "svc_cv = cross_validate(svc, X_train_1, y_train, scoring=scoring, cv=k)\n",
    "svc_accuracy_mean = svc_cv[\"test_accuracy\"].mean()\n",
    "svc_precision_mean = svc_cv[\"test_precision_macro\"].mean()\n",
    "svc_recall_mean = svc_cv[\"test_recall_macro\"].mean()\n",
    "print(f'SVM {k}-fold:')\n",
    "print(f'accuracy_mean: {svc_accuracy_mean}, precision_mean: {svc_precision_mean}, recall_mean: {svc_recall_mean}')\n",
    "\n",
    "knn_cv = cross_validate(knn, X_train_1, y_train, scoring=scoring, cv=k)\n",
    "knn_accuracy_mean = knn_cv[\"test_accuracy\"].mean()\n",
    "knn_precision_mean = knn_cv[\"test_precision_macro\"].mean()\n",
    "knn_recall_mean = knn_cv[\"test_recall_macro\"].mean()\n",
    "print(f'KNN {k}-fold:')\n",
    "print(f'accuracy_mean: {knn_accuracy_mean}, precision_mean: {knn_precision_mean}, recall_mean: {knn_recall_mean}')"
   ]
  },
  {
   "cell_type": "markdown",
   "metadata": {},
   "source": [
    "- 随机森林预测分析"
   ]
  },
  {
   "cell_type": "code",
   "execution_count": 50,
   "metadata": {},
   "outputs": [
    {
     "name": "stdout",
     "output_type": "stream",
     "text": [
      "-----------------Random Forest Report---------------\n",
      "F1 score: 0.8757510768565191\n",
      "Accuracy score: 0.8773\n",
      "Recall score: 0.8773\n",
      "Precision score: 0.8763782002893297\n",
      "\n",
      "Confusion matrix: \n",
      " [[870   0  13  25   4   1  74   0  13   0]\n",
      " [  3 964   2  21   5   0   4   0   1   0]\n",
      " [ 12   0 803   8 119   0  55   0   3   0]\n",
      " [ 19   2   9 902  40   0  26   0   2   0]\n",
      " [  1   2  94  33 814   0  53   0   3   0]\n",
      " [  0   0   0   1   0 955   0  31   0  13]\n",
      " [161   1 124  29  81   0 584   0  20   0]\n",
      " [  0   0   0   0   0  11   0 957   0  32]\n",
      " [  1   2   4   2   4   2   6   5 973   1]\n",
      " [  0   0   0   0   0   6   0  41   2 951]]\n",
      "              precision    recall  f1-score   support\n",
      "\n",
      "           0       0.82      0.87      0.84      1000\n",
      "           1       0.99      0.96      0.98      1000\n",
      "           2       0.77      0.80      0.78      1000\n",
      "           3       0.88      0.90      0.89      1000\n",
      "           4       0.76      0.81      0.79      1000\n",
      "           5       0.98      0.95      0.97      1000\n",
      "           6       0.73      0.58      0.65      1000\n",
      "           7       0.93      0.96      0.94      1000\n",
      "           8       0.96      0.97      0.96      1000\n",
      "           9       0.95      0.95      0.95      1000\n",
      "\n",
      "    accuracy                           0.88     10000\n",
      "   macro avg       0.88      0.88      0.88     10000\n",
      "weighted avg       0.88      0.88      0.88     10000\n",
      "\n"
     ]
    }
   ],
   "source": [
    "# Random Forest report and analysis\n",
    "y_pred_forest = random_forest.predict(X_test_1)\n",
    "random_forest_f1 = metrics.f1_score(y_test, y_pred_forest, average= \"weighted\")\n",
    "random_forest_accuracy = metrics.accuracy_score(y_test, y_pred_forest)\n",
    "random_forest_recall = metrics.recall_score(y_test, y_pred_forest, average= \"weighted\")\n",
    "random_forest_precision = metrics.precision_score(y_test, y_pred_forest, average= \"weighted\")\n",
    "random_forest_cm = metrics.confusion_matrix(y_test, y_pred_forest)\n",
    "print(\"-----------------Random Forest Report---------------\")\n",
    "print(\"F1 score: {}\".format(random_forest_f1))\n",
    "print(\"Accuracy score: {}\".format(random_forest_accuracy))\n",
    "print(\"Recall score: {}\".format(random_forest_recall))\n",
    "print(\"Precision score: {}\\n\".format(random_forest_precision))\n",
    "print(\"Confusion matrix: \\n\", random_forest_cm)\n",
    "print(metrics.classification_report(y_test, y_pred_forest))"
   ]
  },
  {
   "cell_type": "markdown",
   "metadata": {},
   "source": [
    "- 决策树预测分析"
   ]
  },
  {
   "cell_type": "code",
   "execution_count": 31,
   "metadata": {},
   "outputs": [
    {
     "name": "stdout",
     "output_type": "stream",
     "text": [
      "-----------------Decision Tree Report---------------\n",
      "F1 score: 0.8018830116160676\n",
      "Accuracy score: 0.8011\n",
      "Recall score: 0.8011\n",
      "Precision score: 0.8029084024605103\n",
      "\n",
      "Confusion matrix: \n",
      " [[744   3  21  43  11   2 164   0  12   0]\n",
      " [  5 944   4  32   6   0   7   0   2   0]\n",
      " [ 22   1 677  11 144   0 135   0   9   1]\n",
      " [ 46  29  13 789  54   0  60   0   7   2]\n",
      " [  4   3 167  44 667   0 111   0   4   0]\n",
      " [  2   2   1   0   0 901   1  60   7  26]\n",
      " [143   7 122  32 102   1 567   0  26   0]\n",
      " [  0   0   0   0   0  53   1 886   5  55]\n",
      " [ 11   1   7   4   5  13  17   9 929   4]\n",
      " [  0   1   0   1   0  21   0  66   4 907]]\n",
      "              precision    recall  f1-score   support\n",
      "\n",
      "           0       0.76      0.74      0.75      1000\n",
      "           1       0.95      0.94      0.95      1000\n",
      "           2       0.67      0.68      0.67      1000\n",
      "           3       0.83      0.79      0.81      1000\n",
      "           4       0.67      0.67      0.67      1000\n",
      "           5       0.91      0.90      0.91      1000\n",
      "           6       0.53      0.57      0.55      1000\n",
      "           7       0.87      0.89      0.88      1000\n",
      "           8       0.92      0.93      0.93      1000\n",
      "           9       0.91      0.91      0.91      1000\n",
      "\n",
      "    accuracy                           0.80     10000\n",
      "   macro avg       0.80      0.80      0.80     10000\n",
      "weighted avg       0.80      0.80      0.80     10000\n",
      "\n"
     ]
    }
   ],
   "source": [
    "# Decision Tree report and analysis\n",
    "y_pred_tree = tree.predict(X_test_1)\n",
    "tree_f1 = metrics.f1_score(y_test, y_pred_tree, average= \"weighted\")\n",
    "tree_accuracy = metrics.accuracy_score(y_test, y_pred_tree)\n",
    "tree_recall = metrics.recall_score(y_test, y_pred_tree, average= \"weighted\")\n",
    "tree_precision = metrics.precision_score(y_test, y_pred_tree, average= \"weighted\")\n",
    "\n",
    "tree_cm = metrics.confusion_matrix(y_test, y_pred_tree)\n",
    "print(\"-----------------Decision Tree Report---------------\")\n",
    "print(\"F1 score: {}\".format(tree_f1))\n",
    "print(\"Accuracy score: {}\".format(tree_accuracy))\n",
    "print(\"Recall score: {}\".format(tree_recall))\n",
    "print(\"Precision score: {}\\n\".format(tree_precision))\n",
    "\n",
    "print(\"Confusion matrix: \\n\", tree_cm)\n",
    "\n",
    "\n",
    "print(metrics.classification_report(y_test, y_pred_tree))"
   ]
  },
  {
   "cell_type": "markdown",
   "metadata": {},
   "source": [
    "- SVM 预测分析 时间太长了 混淆矩阵画不出来"
   ]
  },
  {
   "cell_type": "code",
   "execution_count": 32,
   "metadata": {},
   "outputs": [
    {
     "name": "stdout",
     "output_type": "stream",
     "text": [
      "-----------------SVM Report---------------\n",
      "F1 score: 0.8456969698281024\n",
      "Accuracy score: 0.8464\n",
      "Recall score: 0.8464\n",
      "Precision score: 0.8457883954572292\n",
      "\n",
      "Confusion matrix: \n",
      " [[815   2  13  45   4   1 108   0  12   0]\n",
      " [  6 962   2  22   3   0   4   0   1   0]\n",
      " [ 22   6 769   8 109   0  79   0   7   0]\n",
      " [ 54  15  19 842  27   0  40   0   3   0]\n",
      " [  1   2 113  33 774   0  72   0   5   0]\n",
      " [  1   0   0   1   0 936   0  38   3  21]\n",
      " [174   2 122  30  93   0 562   0  17   0]\n",
      " [  0   0   0   0   0  38   0 934   1  27]\n",
      " [ 12   1   8   8   2  15  25   4 925   0]\n",
      " [  0   0   0   0   0  15   1  39   0 945]]\n",
      "Plotting confusion matrix\n",
      "              precision    recall  f1-score   support\n",
      "\n",
      "           0       0.75      0.81      0.78      1000\n",
      "           1       0.97      0.96      0.97      1000\n",
      "           2       0.74      0.77      0.75      1000\n",
      "           3       0.85      0.84      0.85      1000\n",
      "           4       0.76      0.77      0.77      1000\n",
      "           5       0.93      0.94      0.93      1000\n",
      "           6       0.63      0.56      0.59      1000\n",
      "           7       0.92      0.93      0.93      1000\n",
      "           8       0.95      0.93      0.94      1000\n",
      "           9       0.95      0.94      0.95      1000\n",
      "\n",
      "    accuracy                           0.85     10000\n",
      "   macro avg       0.85      0.85      0.85     10000\n",
      "weighted avg       0.85      0.85      0.85     10000\n",
      "\n"
     ]
    }
   ],
   "source": [
    "# SVM report and analysis\n",
    "from sklearn.metrics import plot_confusion_matrix\n",
    "y_pred_svc = svc.predict(X_test_1)\n",
    "svc_f1 = f1_score(y_test, y_pred_svc, average= \"weighted\")\n",
    "svc_accuracy = accuracy_score(y_test, y_pred_svc)\n",
    "svc_recall = metrics.recall_score(y_test, y_pred_svc, average= \"weighted\")\n",
    "svc_precision = metrics.precision_score(y_test, y_pred_svc, average= \"weighted\")\n",
    "\n",
    "svc_cm = metrics.confusion_matrix(y_test, y_pred_svc)\n",
    "print(\"-----------------SVM Report---------------\")\n",
    "print(\"F1 score: {}\".format(svc_f1))\n",
    "print(\"Accuracy score: {}\".format(svc_accuracy))\n",
    "print(\"Recall score: {}\".format(svc_recall))\n",
    "print(\"Precision score: {}\\n\".format(svc_precision))\n",
    "\n",
    "print(\"Confusion matrix: \\n\", svc_cm)\n",
    "print('Plotting confusion matrix')\n",
    "\n",
    "\n",
    "print(metrics.classification_report(y_test, y_pred_svc))"
   ]
  },
  {
   "cell_type": "markdown",
   "metadata": {},
   "source": [
    "- KNN 预测分析 同样时间很长 无语了"
   ]
  },
  {
   "cell_type": "code",
   "execution_count": 33,
   "metadata": {},
   "outputs": [
    {
     "name": "stdout",
     "output_type": "stream",
     "text": [
      "-----------------K-nearest neighbors Report---------------\n",
      "F1 score: 0.8546439722018904\n",
      "Accuracy score: 0.8554\n",
      "Recall score: 0.8554\n",
      "Precision score: 0.8578152450755355\n",
      "\n",
      "Confusion matrix: \n",
      " [[855   1  17  16   3   1 100   1   6   0]\n",
      " [  8 968   4  12   4   0   3   0   1   0]\n",
      " [ 24   2 819  11  75   0  69   0   0   0]\n",
      " [ 41   8  15 860  39   0  34   0   3   0]\n",
      " [  2   1 126  26 773   0  71   0   1   0]\n",
      " [  1   0   0   0   0 822   5  96   1  75]\n",
      " [176   1 132  23  80   0 575   0  13   0]\n",
      " [  0   0   0   0   0   3   0 961   0  36]\n",
      " [  2   0  10   4   7   0  16   7 953   1]\n",
      " [  0   0   0   0   0   2   1  29   0 968]]\n",
      "              precision    recall  f1-score   support\n",
      "\n",
      "           0       0.77      0.85      0.81      1000\n",
      "           1       0.99      0.97      0.98      1000\n",
      "           2       0.73      0.82      0.77      1000\n",
      "           3       0.90      0.86      0.88      1000\n",
      "           4       0.79      0.77      0.78      1000\n",
      "           5       0.99      0.82      0.90      1000\n",
      "           6       0.66      0.57      0.61      1000\n",
      "           7       0.88      0.96      0.92      1000\n",
      "           8       0.97      0.95      0.96      1000\n",
      "           9       0.90      0.97      0.93      1000\n",
      "\n",
      "    accuracy                           0.86     10000\n",
      "   macro avg       0.86      0.86      0.85     10000\n",
      "weighted avg       0.86      0.86      0.85     10000\n",
      "\n"
     ]
    }
   ],
   "source": [
    "# KNN report and analysis\n",
    "knn_f1 = metrics.f1_score(y_test, y_pred_knn, average= \"weighted\")\n",
    "knn_accuracy = metrics.accuracy_score(y_test, y_pred_knn)\n",
    "knn_precision = metrics.precision_score(y_test, y_pred_knn, average= \"weighted\")\n",
    "knn_accuracy = metrics.accuracy_score(y_test, y_pred_knn)\n",
    "knn_recall = metrics.recall_score(y_test, y_pred_knn, average= \"weighted\")\n",
    "knn_precision = metrics.precision_score(y_test, y_pred_knn, average= \"weighted\")\n",
    "knn_cm = metrics.confusion_matrix(y_test, y_pred_knn)\n",
    "print(\"-----------------K-nearest neighbors Report---------------\")\n",
    "print(\"F1 score: {}\".format(knn_f1))\n",
    "print(\"Accuracy score: {}\".format(knn_accuracy))\n",
    "print(\"Recall score: {}\".format(knn_recall))\n",
    "print(\"Precision score: {}\\n\".format(knn_precision))\n",
    "print(\"Confusion matrix: \\n\", knn_cm)\n",
    "\n",
    "print(metrics.classification_report(y_test, y_pred_knn))"
   ]
  },
  {
   "cell_type": "markdown",
   "metadata": {},
   "source": [
    "#### Task 2 "
   ]
  },
  {
   "cell_type": "code",
   "execution_count": 31,
   "metadata": {
    "scrolled": true
   },
   "outputs": [],
   "source": [
    "import os\n",
    "from PIL import Image\n",
    "import numpy as np\n",
    "\n",
    "\n",
    "test_img = []\n",
    "img_names = []\n",
    "for file in os.listdir('task2 pictures'):\n",
    "    image = Image.open(f'task2 pictures/{file}').convert('L').resize((28, 28))\n",
    "    img_data = np.array(image.getdata()) / 255\n",
    "    # 背景色改为白色\n",
    "    img_data[img_data == 1] = 0\n",
    "    test_img.append(img_data)\n",
    "    img_names.append(file.split('.')[0])\n",
    "test_img = np.array(test_img).reshape(len(test_img), 28,28)"
   ]
  },
  {
   "cell_type": "code",
   "execution_count": 32,
   "metadata": {},
   "outputs": [
    {
     "name": "stdout",
     "output_type": "stream",
     "text": [
      "(60000, 28, 28)\n",
      "(10000, 28, 28)\n"
     ]
    }
   ],
   "source": [
    "X_train = X_train_1.reshape(X_train_1.shape[0], X_train.shape[2],-1)\n",
    "X_test = X_test_1.reshape(X_test_1.shape[0], X_test.shape[2],-1)\n",
    "print(X_train.shape)\n",
    "print(X_test.shape)"
   ]
  },
  {
   "cell_type": "code",
   "execution_count": 94,
   "metadata": {},
   "outputs": [],
   "source": [
    "import traceback\n",
    "import contextlib\n",
    "\n",
    "\n",
    "# Some helper code to demonstrate the kinds of errors you might encounter.\n",
    "@contextlib.contextmanager\n",
    "def assert_raises(error_class):\n",
    "    try:\n",
    "        yield\n",
    "    except error_class as e:\n",
    "        print('Caught expected exception \\n  {}:'.format(error_class))\n",
    "        traceback.print_exc(limit=2)\n",
    "    except Exception as e:\n",
    "        raise e\n",
    "    else:\n",
    "        raise Exception('Expected {} to be raised but no error was raised!'.format(error_class))"
   ]
  },
  {
   "cell_type": "code",
   "execution_count": 40,
   "metadata": {},
   "outputs": [
    {
     "name": "stdout",
     "output_type": "stream",
     "text": [
      "1875/1875 [==============================] - 2s 823us/step - loss: 0.5154 - accuracy: 0.8206\n"
     ]
    },
    {
     "data": {
      "text/plain": [
       "<tensorflow.python.keras.callbacks.History at 0x26f23650160>"
      ]
     },
     "execution_count": 40,
     "metadata": {},
     "output_type": "execute_result"
    }
   ],
   "source": [
    "#最好的模型是神经网络，我们用它预测，看看我们的模型是否预测准确\n",
    "from sklearn.model_selection import GridSearchCV\n",
    "\n",
    "best1_model = create_model(grid_result.best_params_['layer'])\n",
    "\n",
    "best1_model.fit(X_train, y_train)"
   ]
  },
  {
   "cell_type": "code",
   "execution_count": 41,
   "metadata": {},
   "outputs": [
    {
     "data": {
      "text/plain": [
       "<Figure size 720x720 with 0 Axes>"
      ]
     },
     "metadata": {},
     "output_type": "display_data"
    },
    {
     "data": {
      "image/png": "[encoded data removed]",
      "text/plain": [
       "<Figure size 720x720 with 5 Axes>"
      ]
     },
     "metadata": {},
     "output_type": "display_data"
    }
   ],
   "source": [
    "plt.figure(figsize=(10, 10))\n",
    "fig, ax = plt.subplots(1, 5, figsize=(10, 10)) \n",
    "cnn_predict = best1_model.predict(test_img).argmax(1)\n",
    "for i in range(5):\n",
    "    plt.subplot(5, 5, i + 1)\n",
    "    plt.xticks([])\n",
    "    plt.yticks([])\n",
    "    plt.grid('off')\n",
    "    plt.imshow(test_img[i], cmap=plt.cm.binary)\n",
    "    predicted_label = class_names[cnn_predict[i]]\n",
    "    true_label = img_names[i]\n",
    "    if true_label in predicted_label:\n",
    "        color = 'green'\n",
    "    else:\n",
    "        color = 'red'\n",
    "    plt.xlabel(\"{} ({})\".format(predicted_label, true_label),color=color)\n",
    "plt.show()"
   ]
  },
  {
   "cell_type": "code",
   "execution_count": 42,
   "metadata": {},
   "outputs": [
    {
     "name": "stdout",
     "output_type": "stream",
     "text": [
      "['T-shirt/top', 'Trouser', 'Pullover', 'Dress', 'Coat', 'Sandal', 'Shirt', 'Sneaker', 'Bag', 'Ankle boot']\n",
      "The first picture's prediction's index is :8 ,so the above 5 picture result index is:0\n",
      "预测为第8类\n"
     ]
    }
   ],
   "source": [
    "print(class_names)\n",
    "print(\"The first picture's prediction's index is :{} ,so the above 5 picture result index is:{}\".format(cnn_predict[0],np.argmax(cnn_predict[0])))\n",
    "print('预测为第%d类' %cnn_predict[0])"
   ]
  },
  {
   "cell_type": "markdown",
   "metadata": {},
   "source": [
    "- Random Forest"
   ]
  },
  {
   "cell_type": "code",
   "execution_count": 69,
   "metadata": {},
   "outputs": [],
   "source": [
    "import os\n",
    "from PIL import Image\n",
    "import numpy as np\n",
    "\n",
    "\n",
    "test_img = []\n",
    "img_names = []\n",
    "for file in os.listdir('task2 pictures'):\n",
    "    image = Image.open(f'task2 pictures/{file}').convert('L').resize((28,28))\n",
    "    img_data = np.array(image.getdata()) / 255\n",
    "    # 背景色改为白色\n",
    "    img_data[img_data == 1] = 0\n",
    "    test_img.append(img_data)\n",
    "    img_names.append(file.split('.')[0])\n",
    "test_img = np.array(test_img).reshape(len(test_img), 28,28)"
   ]
  },
  {
   "cell_type": "code",
   "execution_count": 70,
   "metadata": {},
   "outputs": [
    {
     "name": "stdout",
     "output_type": "stream",
     "text": [
      "(60000, 784)\n",
      "(10000, 784)\n"
     ]
    }
   ],
   "source": [
    "X_train_2 = X_train.reshape(X_train.shape[0], -1)\n",
    "X_test_2 = X_test.reshape(X_test.shape[0], -1)\n",
    "print(X_train_2.shape)\n",
    "print(X_test_2.shape)"
   ]
  },
  {
   "cell_type": "code",
   "execution_count": 63,
   "metadata": {},
   "outputs": [
    {
     "data": {
      "text/plain": [
       "RandomForestClassifier(criterion='entropy', max_depth=70)"
      ]
     },
     "execution_count": 63,
     "metadata": {},
     "output_type": "execute_result"
    }
   ],
   "source": [
    "from sklearn.ensemble import RandomForestClassifier\n",
    "random_forest = RandomForestClassifier(criterion='entropy', max_depth=70, n_estimators=100)\n",
    "random_forest.fit(X_train_2, y_train)"
   ]
  },
  {
   "cell_type": "code",
   "execution_count": 64,
   "metadata": {},
   "outputs": [
    {
     "ename": "AxisError",
     "evalue": "axis 1 is out of bounds for array of dimension 1",
     "output_type": "error",
     "traceback": [
      "\u001b[1;31m---------------------------------------------------------------------------\u001b[0m",
      "\u001b[1;31mAxisError\u001b[0m                                 Traceback (most recent call last)",
      "\u001b[1;32m<ipython-input-64-c5d98f9205ef>\u001b[0m in \u001b[0;36m<module>\u001b[1;34m\u001b[0m\n\u001b[0;32m      1\u001b[0m \u001b[0mplt\u001b[0m\u001b[1;33m.\u001b[0m\u001b[0mfigure\u001b[0m\u001b[1;33m(\u001b[0m\u001b[0mfigsize\u001b[0m\u001b[1;33m=\u001b[0m\u001b[1;33m(\u001b[0m\u001b[1;36m10\u001b[0m\u001b[1;33m,\u001b[0m \u001b[1;36m10\u001b[0m\u001b[1;33m)\u001b[0m\u001b[1;33m)\u001b[0m\u001b[1;33m\u001b[0m\u001b[1;33m\u001b[0m\u001b[0m\n\u001b[0;32m      2\u001b[0m \u001b[0mfig\u001b[0m\u001b[1;33m,\u001b[0m \u001b[0max\u001b[0m \u001b[1;33m=\u001b[0m \u001b[0mplt\u001b[0m\u001b[1;33m.\u001b[0m\u001b[0msubplots\u001b[0m\u001b[1;33m(\u001b[0m\u001b[1;36m1\u001b[0m\u001b[1;33m,\u001b[0m \u001b[1;36m5\u001b[0m\u001b[1;33m,\u001b[0m \u001b[0mfigsize\u001b[0m\u001b[1;33m=\u001b[0m\u001b[1;33m(\u001b[0m\u001b[1;36m10\u001b[0m\u001b[1;33m,\u001b[0m \u001b[1;36m10\u001b[0m\u001b[1;33m)\u001b[0m\u001b[1;33m)\u001b[0m\u001b[1;33m\u001b[0m\u001b[1;33m\u001b[0m\u001b[0m\n\u001b[1;32m----> 3\u001b[1;33m \u001b[0mrdm_predict\u001b[0m \u001b[1;33m=\u001b[0m \u001b[0mrandom_forest\u001b[0m\u001b[1;33m.\u001b[0m\u001b[0mpredict\u001b[0m\u001b[1;33m(\u001b[0m\u001b[0mtest_img\u001b[0m\u001b[1;33m)\u001b[0m\u001b[1;33m.\u001b[0m\u001b[0margmax\u001b[0m\u001b[1;33m(\u001b[0m\u001b[1;36m1\u001b[0m\u001b[1;33m)\u001b[0m\u001b[1;33m\u001b[0m\u001b[1;33m\u001b[0m\u001b[0m\n\u001b[0m\u001b[0;32m      4\u001b[0m \u001b[1;32mfor\u001b[0m \u001b[0mi\u001b[0m \u001b[1;32min\u001b[0m \u001b[0mrange\u001b[0m\u001b[1;33m(\u001b[0m\u001b[1;36m5\u001b[0m\u001b[1;33m)\u001b[0m\u001b[1;33m:\u001b[0m\u001b[1;33m\u001b[0m\u001b[1;33m\u001b[0m\u001b[0m\n\u001b[0;32m      5\u001b[0m     \u001b[0mplt\u001b[0m\u001b[1;33m.\u001b[0m\u001b[0msubplot\u001b[0m\u001b[1;33m(\u001b[0m\u001b[1;36m5\u001b[0m\u001b[1;33m,\u001b[0m \u001b[1;36m5\u001b[0m\u001b[1;33m,\u001b[0m \u001b[0mi\u001b[0m \u001b[1;33m+\u001b[0m \u001b[1;36m1\u001b[0m\u001b[1;33m)\u001b[0m\u001b[1;33m\u001b[0m\u001b[1;33m\u001b[0m\u001b[0m\n",
      "\u001b[1;31mAxisError\u001b[0m: axis 1 is out of bounds for array of dimension 1"
     ]
    },
    {
     "data": {
      "text/plain": [
       "<Figure size 720x720 with 0 Axes>"
      ]
     },
     "metadata": {},
     "output_type": "display_data"
    },
    {
     "data": {
      "image/png": "[encoded data removed]",
      "text/plain": [
       "<Figure size 720x720 with 5 Axes>"
      ]
     },
     "metadata": {},
     "output_type": "display_data"
    }
   ],
   "source": [
    "plt.figure(figsize=(10, 10))\n",
    "fig, ax = plt.subplots(1, 5, figsize=(10, 10)) \n",
    "rdm_predict = random_forest.predict(test_img).argmax(1)\n",
    "for i in range(5):\n",
    "    plt.subplot(5, 5, i + 1)\n",
    "    plt.xticks([])\n",
    "    plt.yticks([])\n",
    "    plt.grid('off')\n",
    "    plt.imshow(test_img[i], cmap=plt.cm.binary)\n",
    "    predicted_label = class_names[rdm_predict[i]]\n",
    "    true_label = img_names[i]\n",
    "    if true_label in predicted_label:\n",
    "        color = 'green'\n",
    "    else:\n",
    "        color = 'red'\n",
    "    plt.xlabel(\"{} ({})\".format(predicted_label, true_label),color=color)\n",
    "plt.show()"
   ]
  },
  {
   "cell_type": "markdown",
   "metadata": {},
   "source": [
    "# Summary"
   ]
  },
  {
   "cell_type": "markdown",
   "metadata": {},
   "source": [
    "|   Model   |   Accuracy   |   Precision   |   Recall   |   F1   |\n",
    "| ----- | ----- | ----- | ----- | ----- |\n",
    "| Convolutional neural network | 0.8832 | 0.8832 | 0.8832| 0.8832  | \n",
    "| Random forest | 0.8773 | 0.8763 | 0.8773 | 0.8757 | \n",
    "| Decision Tree | 0.8011 | 0.8029| 0.8811 | 0.8018 | \n",
    "| SVM | 0.8464 | 0.8457 | 0.8464 | 0.8456 | \n",
    "| KNN | 0.8554 | 0.8578 | 0.8554 | 0.8546 |"
   ]
  },
  {
   "cell_type": "markdown",
   "metadata": {},
   "source": [
    "### Output"
   ]
  },
  {
   "cell_type": "markdown",
   "metadata": {},
   "source": [
    "<ul>\n",
    "    <li>Make sure to put descriptive comments on your code</li>\n",
    "    <li>Use the markdown cell format in Jupiter to add your own interpretation to the result in each section.</li>\n",
    "    <li>Make sure to keep the output of your runs when you want to save the final version of the file.</li>\n",
    "    <li>The final work should be very well structured and should have a consistent flow of analysis.</li>\n",
    "</ul>"
   ]
  },
  {
   "cell_type": "markdown",
   "metadata": {},
   "source": [
    "#### Due Date: Nov 9 2020 at 11:59 PM"
   ]
  },
  {
   "cell_type": "markdown",
   "metadata": {},
   "source": [
    "## Grading Criteria"
   ]
  },
  {
   "cell_type": "markdown",
   "metadata": {},
   "source": [
    "<table style=\"width:400px;height:200px;border:1px black solid; background-color:white\">\n",
    "    <tr style=\"background-color:white\">\n",
    "        <th style=\"text-align:left;border:1px black solid\">Comprehensiveness</th>\n",
    "        <td style=\"text-align:center;border:1px black solid\"><b>30%</b></td>\n",
    "    </tr>\n",
    "    <tr style=\"background-color:white\">\n",
    "        <th style=\"text-align:left;border:1px black solid\">Correctness</th>\n",
    "        <td style=\"text-align:center;border:1px black solid\"><b>20%</b></td>\n",
    "    </tr>\n",
    "    <tr style=\"background-color:white\">\n",
    "        <th style=\"text-align:left;border:1px black solid\">Complete Report</th>\n",
    "        <td style=\"text-align:center;border:1px black solid\"><b>20%</b></td>\n",
    "    </tr>\n",
    "    <tr style=\"background-color:white\">\n",
    "        <th style=\"text-align:left;border:1px black solid\">Clear Code</th>\n",
    "        <td style=\"text-align:center;border:1px black solid\"><b>20%</b></td>\n",
    "    </tr>\n",
    "    <tr style=\"background-color:white\">\n",
    "        <th style=\"text-align:left;border:1px black solid\">Innovation (Extra)</th>\n",
    "        <td style=\"text-align:center;border:1px black solid\"><b>20%</b></td>\n",
    "    </tr>\n",
    "    <tr style=\"background-color:white\">\n",
    "        <th style=\"text-align:center;border:1px black solid;color:red\"><u>Total</u></th>\n",
    "        <td style=\"text-align:center;border:1px black solid;color:red\"><b stlyle=\"color:red\">110%</b></td>\n",
    "    </tr>\n",
    "</table>"
   ]
  }
 ],
 "metadata": {
  "kernelspec": {
   "display_name": "Python 3",
   "language": "python",
   "name": "python3"
  },
  "language_info": {
   "codemirror_mode": {
    "name": "ipython",
    "version": 3
   },
   "file_extension": ".py",
   "mimetype": "text/x-python",
   "name": "python",
   "nbconvert_exporter": "python",
   "pygments_lexer": "ipython3",
   "version": "3.8.3"
  }
 },
 "nbformat": 4,
 "nbformat_minor": 4
}
