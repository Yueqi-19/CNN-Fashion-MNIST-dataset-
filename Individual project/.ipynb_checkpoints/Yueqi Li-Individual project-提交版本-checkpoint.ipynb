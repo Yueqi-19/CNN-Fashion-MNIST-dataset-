{
 "cells": [
  {
   "cell_type": "markdown",
   "metadata": {},
   "source": [
    "        Data Science: A Programming Approach\n",
    "        Mahyar S Vaghefi\n",
    "        University of Texas Arlington\n",
    "        \n",
    "        This document can only be used for class studies. \n",
    "        You are not allowed to share it in any public platform."
   ]
  },
  {
   "cell_type": "markdown",
   "metadata": {},
   "source": [
    "<h1 align='center' style=\"color: blue;\">Individual Project - Fall 2020</h1>"
   ]
  },
  {
   "cell_type": "markdown",
   "metadata": {},
   "source": [
    "You need to work on a popular Fashion MNIST dataset for this project. The dataset includes tiny images of fashion pieces. The objective is to create a set of supervised learning models that can predict the type of item based on its image. You can use all different models that you learned about them in this course for yourr work. Keep in mind that this is a project, not a class assignmnet. So, not all steps are predetermined and you have more flexibility, and the final outcome is likely to be more detailed."
   ]
  },
  {
   "cell_type": "markdown",
   "metadata": {},
   "source": [
    "In order to load the dataset you need to have `tensorflow V2` on your computer. Use the following code to install the package"
   ]
  },
  {
   "cell_type": "code",
   "execution_count": null,
   "metadata": {},
   "outputs": [],
   "source": [
    "!pip install --upgrade tensorflow\n",
    "#!pip install keras"
   ]
  },
  {
   "cell_type": "markdown",
   "metadata": {},
   "source": [
    "You can also check the version of it using the following code."
   ]
  },
  {
   "cell_type": "code",
   "execution_count": 1,
   "metadata": {},
   "outputs": [
    {
     "ename": "ModuleNotFoundError",
     "evalue": "No module named 'tensorflow'",
     "output_type": "error",
     "traceback": [
      "\u001b[1;31m---------------------------------------------------------------------------\u001b[0m",
      "\u001b[1;31mModuleNotFoundError\u001b[0m                       Traceback (most recent call last)",
      "\u001b[1;32m<ipython-input-1-70ea7310a606>\u001b[0m in \u001b[0;36m<module>\u001b[1;34m\u001b[0m\n\u001b[1;32m----> 1\u001b[1;33m \u001b[1;32mimport\u001b[0m \u001b[0mtensorflow\u001b[0m \u001b[1;32mas\u001b[0m \u001b[0mtf\u001b[0m\u001b[1;33m\u001b[0m\u001b[1;33m\u001b[0m\u001b[0m\n\u001b[0m\u001b[0;32m      2\u001b[0m \u001b[1;32mimport\u001b[0m \u001b[0mtensorflow\u001b[0m \u001b[1;32mas\u001b[0m \u001b[0mtf\u001b[0m\u001b[1;33m\u001b[0m\u001b[1;33m\u001b[0m\u001b[0m\n\u001b[0;32m      3\u001b[0m \u001b[0mtf\u001b[0m\u001b[1;33m.\u001b[0m\u001b[0mcompat\u001b[0m\u001b[1;33m.\u001b[0m\u001b[0mv1\u001b[0m\u001b[1;33m.\u001b[0m\u001b[0mlogging\u001b[0m\u001b[1;33m.\u001b[0m\u001b[0mset_verbosity\u001b[0m\u001b[1;33m(\u001b[0m\u001b[0mtf\u001b[0m\u001b[1;33m.\u001b[0m\u001b[0mcompat\u001b[0m\u001b[1;33m.\u001b[0m\u001b[0mv1\u001b[0m\u001b[1;33m.\u001b[0m\u001b[0mlogging\u001b[0m\u001b[1;33m.\u001b[0m\u001b[0mERROR\u001b[0m\u001b[1;33m)\u001b[0m\u001b[1;33m\u001b[0m\u001b[1;33m\u001b[0m\u001b[0m\n\u001b[0;32m      4\u001b[0m \u001b[0mtf\u001b[0m\u001b[1;33m.\u001b[0m\u001b[0m__version__\u001b[0m\u001b[1;33m\u001b[0m\u001b[1;33m\u001b[0m\u001b[0m\n",
      "\u001b[1;31mModuleNotFoundError\u001b[0m: No module named 'tensorflow'"
     ]
    }
   ],
   "source": [
    "import tensorflow as tf\n",
    "import tensorflow as tf\n",
    "tf.compat.v1.logging.set_verbosity(tf.compat.v1.logging.ERROR)\n",
    "tf.__version__"
   ]
  },
  {
   "cell_type": "markdown",
   "metadata": {},
   "source": [
    "Now, it's time to load the dataset"
   ]
  },
  {
   "cell_type": "code",
   "execution_count": 3,
   "metadata": {},
   "outputs": [],
   "source": [
    "from tensorflow import keras\n",
    "from keras.utils import np_utils\n",
    "fashion_mnist = keras.datasets.fashion_mnist\n",
    "(X_train, y_train), (X_test, y_test) = fashion_mnist.load_data()"
   ]
  },
  {
   "cell_type": "markdown",
   "metadata": {},
   "source": [
    "As can be seen from the above code, the dataset was divided into train and test sets. Let's take a look at the X_train"
   ]
  },
  {
   "cell_type": "code",
   "execution_count": 4,
   "metadata": {},
   "outputs": [
    {
     "data": {
      "text/plain": [
       "(60000, 28, 28)"
      ]
     },
     "execution_count": 4,
     "metadata": {},
     "output_type": "execute_result"
    }
   ],
   "source": [
    "X_train.shape"
   ]
  },
  {
   "cell_type": "markdown",
   "metadata": {},
   "source": [
    "As it is clear, the train dataset (`X_train`) contains 60,000 images of size 28 x 28. We can visualize one of the images using the following code:"
   ]
  },
  {
   "cell_type": "code",
   "execution_count": 5,
   "metadata": {},
   "outputs": [
    {
     "data": {
      "image/png": "[encoded data removed]",
      "text/plain": [
       "<Figure size 432x288 with 1 Axes>"
      ]
     },
     "metadata": {
      "needs_background": "light"
     },
     "output_type": "display_data"
    }
   ],
   "source": [
    "import matplotlib as mpl\n",
    "import matplotlib.pyplot as plt\n",
    "%matplotlib inline\n",
    "\n",
    "sample_image = X_train[1]\n",
    "plt.imshow(sample_image, cmap='binary')\n",
    "plt.axis('off')\n",
    "plt.show()"
   ]
  },
  {
   "cell_type": "markdown",
   "metadata": {},
   "source": [
    "The `y_train` also includes values between 0 and 9. Each represents a particular category. For example, we can check the value of `y_train` for the above image."
   ]
  },
  {
   "cell_type": "code",
   "execution_count": 6,
   "metadata": {},
   "outputs": [
    {
     "data": {
      "text/plain": [
       "0"
      ]
     },
     "execution_count": 6,
     "metadata": {},
     "output_type": "execute_result"
    }
   ],
   "source": [
    "y_train[1]"
   ]
  },
  {
   "cell_type": "markdown",
   "metadata": {},
   "source": [
    "The above code shows that the image belongs to category 0. To get the associated label with each category, you can use the following code:"
   ]
  },
  {
   "cell_type": "code",
   "execution_count": 7,
   "metadata": {},
   "outputs": [
    {
     "name": "stdout",
     "output_type": "stream",
     "text": [
      "T-shirt/top\n"
     ]
    }
   ],
   "source": [
    "class_names = ['T-shirt/top','Trouser','Pullover','Dress','Coat','Sandal','Shirt','Sneaker','Bag','Ankle boot']\n",
    "print(class_names[y_train[1]])"
   ]
  },
  {
   "cell_type": "markdown",
   "metadata": {},
   "source": [
    "Now, it's your turn,"
   ]
  },
  {
   "cell_type": "markdown",
   "metadata": {},
   "source": [
    "\n",
    "\n",
    "<ul>\n",
    "    <li><b>Task1:</b> Use the train set to train various supervised models and evaluate their performance using the test set.</li>\n",
    "    <ul>\n",
    "        <li>Use different supervised learning models.</li>\n",
    "        <li>Use different metrics such as <b>accutacy</b>, <b>precision</b>, <b>AUC</b>, and ... in your model evaluation. </li>\n",
    "        <li>It is not enough to report the metrics. It is crucial that you interpret the metrics for each model and compare them across different models.</li>\n",
    "        <li> You may need to use the cross validation methods for hyperparameter selection.</li>\n",
    "        <li> Specify the model that outperforms the other models.</b>\n",
    "    </ul>\n",
    "    <li><b>Task2:</b> Use the best model to predict your own fashion pieces.</li>\n",
    "    <ul>\n",
    "        <li>Take a picture of five fashion pieces of your own (take pictures in square format).</li>\n",
    "        <li>Resize images to the correct size (28,28).</li>\n",
    "        <li>Grayscale your images.</li>\n",
    "        <li>Visualize all the images side by side</li>\n",
    "        <li>Use the best model in Task 1 to predict the label of each of your own images.</li>\n",
    "        <li>How accurate is the final result?</li>\n",
    "    </ul>\n",
    "</ul>"
   ]
  },
  {
   "cell_type": "markdown",
   "metadata": {},
   "source": [
    "# Task 1"
   ]
  },
  {
   "cell_type": "markdown",
   "metadata": {},
   "source": [
    "### Overview\n",
    "<ul>\n",
    "    <li><b>Data exploration</b> \n",
    "    <li><b>Different supervised learning models:</b> calculate the accuracy score,precision score,recall score and F1 score for each model. \n",
    "    <ul>\n",
    "        <li>Model 1- Neural network</li>\n",
    "        <li>Model 2 - LogisticRegression  </li>\n",
    "        <li> Model 3 -Random Forest </li>\n",
    "        <li> Model 4 -Decision Tree</li>\n",
    "        <li> Model 5 -SVM</li>\n",
    "        <li> Model 6 -KNN</li>\n",
    "        <li> Task 1 predict and summary</li>\n",
    "    </ul>\n",
    "    <li><b>Details:</b> </li>\n",
    "    <ul>\n",
    "        <li>For model 1 and model 2, tuning hyperparameters in both neural network and logitic regression using Keras and scikit-learn，use <b>5-fold cross-validation</b> .</li>\n",
    "        <li>For model 3，4，5，6 ,two method to evaluate those models,use <b>5-fold cross-validation</b> and <b>without using any features extraction method</b> respectively.</li>\n",
    "    </ul>\n",
    "</ul>"
   ]
  },
  {
   "cell_type": "markdown",
   "metadata": {},
   "source": [
    "### Data exploration"
   ]
  },
  {
   "cell_type": "code",
   "execution_count": 8,
   "metadata": {},
   "outputs": [],
   "source": [
    "#Keras API - Model Compilation\n",
    "from keras.utils import np_utils\n",
    "from keras.models import Sequential\n",
    "from keras.layers import Dense\n",
    "from keras.optimizers import SGD\n",
    "from sklearn.metrics import classification_report"
   ]
  },
  {
   "cell_type": "code",
   "execution_count": 9,
   "metadata": {},
   "outputs": [
    {
     "name": "stdout",
     "output_type": "stream",
     "text": [
      "The shape of train_images is  (60000, 28, 28)\n",
      "The shape of train_labels is  (60000,)\n",
      "The shape of test_images is  (10000, 28, 28)\n",
      "The length of test_labels is  10000\n"
     ]
    }
   ],
   "source": [
    "print(\"The shape of train_images is \",X_train.shape)\n",
    "print(\"The shape of train_labels is \",y_train.shape)\n",
    "print(\"The shape of test_images is \",X_test.shape)\n",
    "print(\"The length of test_labels is \",len(y_test))"
   ]
  },
  {
   "cell_type": "code",
   "execution_count": 10,
   "metadata": {},
   "outputs": [
    {
     "data": {
      "image/png": "[encoded data removed]",
      "text/plain": [
       "<Figure size 432x288 with 2 Axes>"
      ]
     },
     "metadata": {
      "needs_background": "light"
     },
     "output_type": "display_data"
    }
   ],
   "source": [
    "plt.figure()\n",
    "plt.imshow(X_train[0])\n",
    "plt.colorbar()\n",
    "plt.gca().grid(False)\n",
    "plt.show()"
   ]
  },
  {
   "cell_type": "code",
   "execution_count": 11,
   "metadata": {},
   "outputs": [],
   "source": [
    "# normalize to range 0-1 \n",
    "X_train=X_train/255.0\n",
    "X_test=X_test/255.0"
   ]
  },
  {
   "cell_type": "code",
   "execution_count": 12,
   "metadata": {},
   "outputs": [
    {
     "data": {
      "image/png": "[encoded data removed]",
      "text/plain": [
       "<Figure size 720x720 with 25 Axes>"
      ]
     },
     "metadata": {},
     "output_type": "display_data"
    }
   ],
   "source": [
    "#Show the label corresponding to the picture\n",
    "plt.figure(figsize=(10,10))\n",
    "for i in range(25):\n",
    "    plt.subplot(5,5,i+1)\n",
    "    plt.xticks([])\n",
    "    plt.yticks([])\n",
    "    plt.grid('off')\n",
    "    plt.imshow(X_train[i],cmap=plt.cm.binary)\n",
    "    plt.xlabel(class_names[y_train[i]])\n",
    "    \n",
    "plt.show()"
   ]
  },
  {
   "cell_type": "markdown",
   "metadata": {},
   "source": [
    "### Model 1- Neural network"
   ]
  },
  {
   "cell_type": "code",
   "execution_count": 13,
   "metadata": {
    "scrolled": true
   },
   "outputs": [
    {
     "name": "stdout",
     "output_type": "stream",
     "text": [
      "1500/1500 [==============================] - 1s 769us/step - loss: 0.5781 - accuracy: 0.8021\n",
      "375/375 [==============================] - 0s 582us/step - loss: 0.4571 - accuracy: 0.8419\n",
      "1500/1500 [==============================] - 1s 733us/step - loss: 0.5778 - accuracy: 0.8044\n",
      "375/375 [==============================] - 0s 616us/step - loss: 0.4602 - accuracy: 0.8397\n",
      "1500/1500 [==============================] - 1s 727us/step - loss: 0.5776 - accuracy: 0.8012\n",
      "375/375 [==============================] - 0s 594us/step - loss: 0.4727 - accuracy: 0.8345\n",
      "1500/1500 [==============================] - 1s 729us/step - loss: 0.5644 - accuracy: 0.8030\n",
      "375/375 [==============================] - 0s 587us/step - loss: 0.4661 - accuracy: 0.8410\n",
      "1500/1500 [==============================] - 1s 742us/step - loss: 0.5664 - accuracy: 0.8079\n",
      "375/375 [==============================] - 0s 622us/step - loss: 0.5303 - accuracy: 0.8086\n",
      "1500/1500 [==============================] - 1s 829us/step - loss: 0.5398 - accuracy: 0.8115\n",
      "375/375 [==============================] - 0s 679us/step - loss: 0.4150 - accuracy: 0.8555\n",
      "1500/1500 [==============================] - 1s 832us/step - loss: 0.5304 - accuracy: 0.8177\n",
      "375/375 [==============================] - 0s 639us/step - loss: 0.4330 - accuracy: 0.8441\n",
      "1500/1500 [==============================] - 1s 824us/step - loss: 0.5479 - accuracy: 0.8109\n",
      "375/375 [==============================] - 0s 613us/step - loss: 0.4176 - accuracy: 0.8556\n",
      "1500/1500 [==============================] - 1s 840us/step - loss: 0.5351 - accuracy: 0.8147\n",
      "375/375 [==============================] - 0s 626us/step - loss: 0.4404 - accuracy: 0.8496\n",
      "1500/1500 [==============================] - 1s 828us/step - loss: 0.5289 - accuracy: 0.8154\n",
      "375/375 [==============================] - 0s 658us/step - loss: 0.4604 - accuracy: 0.8352\n",
      "1500/1500 [==============================] - 1s 979us/step - loss: 0.5202 - accuracy: 0.8168\n",
      "375/375 [==============================] - 0s 655us/step - loss: 0.3905 - accuracy: 0.8658\n",
      "1500/1500 [==============================] - 2s 1ms/step - loss: 0.5208 - accuracy: 0.8174\n",
      "375/375 [==============================] - 0s 694us/step - loss: 0.4252 - accuracy: 0.8453\n",
      "1500/1500 [==============================] - 1s 917us/step - loss: 0.5232 - accuracy: 0.8173\n",
      "375/375 [==============================] - 0s 661us/step - loss: 0.4495 - accuracy: 0.8371\n",
      "1500/1500 [==============================] - 1s 979us/step - loss: 0.5192 - accuracy: 0.8179\n",
      "375/375 [==============================] - 0s 635us/step - loss: 0.4038 - accuracy: 0.8622\n",
      "1500/1500 [==============================] - 1s 969us/step - loss: 0.5191 - accuracy: 0.8185\n",
      "375/375 [==============================] - 0s 758us/step - loss: 0.4234 - accuracy: 0.8487\n",
      "1500/1500 [==============================] - 2s 1ms/step - loss: 0.5052 - accuracy: 0.8208\n",
      "375/375 [==============================] - 0s 752us/step - loss: 0.3877 - accuracy: 0.8611\n",
      "1500/1500 [==============================] - 2s 1ms/step - loss: 0.5039 - accuracy: 0.8220\n",
      "375/375 [==============================] - 0s 773us/step - loss: 0.3982 - accuracy: 0.8552\n",
      "1500/1500 [==============================] - 2s 1ms/step - loss: 0.5016 - accuracy: 0.8222\n",
      "375/375 [==============================] - 0s 777us/step - loss: 0.4514 - accuracy: 0.8417\n",
      "1500/1500 [==============================] - 2s 1ms/step - loss: 0.5019 - accuracy: 0.8215\n",
      "375/375 [==============================] - 0s 748us/step - loss: 0.4147 - accuracy: 0.8528\n",
      "1500/1500 [==============================] - 2s 1ms/step - loss: 0.5046 - accuracy: 0.8213\n",
      "375/375 [==============================] - 0s 817us/step - loss: 0.4238 - accuracy: 0.8462\n",
      "1875/1875 [==============================] - 2s 1ms/step - loss: 0.5001 - accuracy: 0.8252\n"
     ]
    }
   ],
   "source": [
    "#Use Grid Search to tune the hyperparameters of neural network\n",
    "from sklearn.model_selection import GridSearchCV\n",
    "\n",
    "#Model Compilation\n",
    "def create_model(layer):\n",
    "    model = keras.Sequential([\n",
    "        keras.layers.Flatten(input_shape=(28, 28)),\n",
    "        keras.layers.Dense(layer, activation='relu'),\n",
    "        keras.layers.Dense(10, activation='softmax')\n",
    "    ])\n",
    "    model.compile(optimizer='adam', loss='sparse_categorical_crossentropy', metrics=['accuracy'])\n",
    "    return model\n",
    "\n",
    "#Train the model\n",
    "model = keras.wrappers.scikit_learn.KerasClassifier(create_model)\n",
    "param_grid = {'layer': [32, 64, 128, 256]} #The value of the parameter that needs to be optimized\n",
    "grid = GridSearchCV(estimator=model, param_grid=param_grid,cv=5, n_jobs=1)#use 5-fold cross-validation\n",
    "grid_result = grid.fit(X_train,y_train)"
   ]
  },
  {
   "cell_type": "markdown",
   "metadata": {},
   "source": [
    "<p> Above result, during model training, loss and accuracy indicators are displayed.As the number of iterations increases， the accuracy of this model on the training data is about 0.82 (or 82%)</p>"
   ]
  },
  {
   "cell_type": "code",
   "execution_count": 14,
   "metadata": {},
   "outputs": [
    {
     "name": "stdout",
     "output_type": "stream",
     "text": [
      "Best parameter:  {'layer': 128}\n",
      "1875/1875 [==============================] - 2s 1ms/step - loss: 0.4980 - accuracy: 0.8249\n",
      "select the epoch where the model achieved the best accuracy. \n",
      " In addition, you can stop the training when the accuracy is not improving, given a threshold\n",
      "\n",
      "--------------------classification_report------------------\n",
      "              precision    recall  f1-score   support\n",
      "\n",
      " T-shirt/top       0.79      0.82      0.81      1000\n",
      "     Trouser       0.99      0.95      0.97      1000\n",
      "    Pullover       0.81      0.68      0.74      1000\n",
      "       Dress       0.76      0.91      0.83      1000\n",
      "        Coat       0.65      0.84      0.73      1000\n",
      "      Sandal       0.93      0.95      0.94      1000\n",
      "       Shirt       0.71      0.45      0.55      1000\n",
      "     Sneaker       0.94      0.90      0.92      1000\n",
      "         Bag       0.95      0.97      0.96      1000\n",
      "  Ankle boot       0.93      0.96      0.94      1000\n",
      "\n",
      "    accuracy                           0.84     10000\n",
      "   macro avg       0.85      0.84      0.84     10000\n",
      "weighted avg       0.85      0.84      0.84     10000\n",
      "\n",
      "Confusion matrix: \n",
      " [[820   1   4  78   6   0  72   0  19   0]\n",
      " [  3 954   0  33   5   0   3   0   2   0]\n",
      " [ 22   2 675  27 200   1  65   0   8   0]\n",
      " [ 27   7   4 912  29   0  19   0   2   0]\n",
      " [  0   0  65  65 838   0  26   0   6   0]\n",
      " [  0   0   0   1   0 948   0  23   2  26]\n",
      " [158   1  86  75 213   0 452   0  15   0]\n",
      " [  0   0   0   0   0  50   0 904   0  46]\n",
      " [  4   1   0   8   5   3   4   4 971   0]\n",
      " [  0   0   0   0   0  12   0  28   1 959]]\n"
     ]
    }
   ],
   "source": [
    "from sklearn.metrics import accuracy_score, precision_score, recall_score,f1_score\n",
    "from sklearn.metrics import classification_report, confusion_matrix\n",
    "import sklearn.metrics as metrics\n",
    "import numpy as np\n",
    "\n",
    "# chose the best parameter to train the model again\n",
    "print(\"Best parameter: \", grid_result.best_params_)\n",
    "best_model = create_model(grid_result.best_params_['layer'])#The combination of parameters describing the best results\n",
    "best_model.fit(X_train, y_train)\n",
    "predict = best_model.predict(X_test)\n",
    "\n",
    "print('select the epoch where the model achieved the best accuracy. \\n In addition, you can stop the training when the accuracy is not improving, given a threshold')\n",
    "\n",
    "print(\"\\n--------------------classification_report------------------\")\n",
    "\n",
    "print(metrics.classification_report (y_test, np.argmax(predict, axis = 1),target_names=class_names))\n",
    "\n",
    "predict = predict.argmax(1)\n",
    "cnn_cm_mnist = metrics.confusion_matrix(y_test, predict)\n",
    "\n",
    "\n",
    "print(\"Confusion matrix: \\n\", cnn_cm_mnist)\n",
    "\n"
   ]
  },
  {
   "cell_type": "markdown",
   "metadata": {},
   "source": [
    "- The below is on the basis of 5-fold cross-validation with epochs=10,on the basis of the best model"
   ]
  },
  {
   "cell_type": "code",
   "execution_count": 24,
   "metadata": {},
   "outputs": [
    {
     "name": "stdout",
     "output_type": "stream",
     "text": [
      "Epoch 1/10\n",
      "1313/1313 [==============================] - 2s 2ms/step - loss: 0.1286 - accuracy: 0.9510 - val_loss: 0.4163 - val_accuracy: 0.8846\n",
      "Epoch 2/10\n",
      "1313/1313 [==============================] - 2s 2ms/step - loss: 0.1280 - accuracy: 0.9517 - val_loss: 0.3953 - val_accuracy: 0.8928\n",
      "Epoch 3/10\n",
      "1313/1313 [==============================] - 2s 2ms/step - loss: 0.1229 - accuracy: 0.9542 - val_loss: 0.4082 - val_accuracy: 0.8883\n",
      "Epoch 4/10\n",
      "1313/1313 [==============================] - 2s 2ms/step - loss: 0.1202 - accuracy: 0.9549 - val_loss: 0.4283 - val_accuracy: 0.8843\n",
      "Epoch 5/10\n",
      "1313/1313 [==============================] - 2s 2ms/step - loss: 0.1181 - accuracy: 0.9550 - val_loss: 0.4209 - val_accuracy: 0.8876\n",
      "Epoch 6/10\n",
      "1313/1313 [==============================] - 2s 2ms/step - loss: 0.1143 - accuracy: 0.9570 - val_loss: 0.4265 - val_accuracy: 0.8921\n",
      "Epoch 7/10\n",
      "1313/1313 [==============================] - 2s 2ms/step - loss: 0.1152 - accuracy: 0.9576 - val_loss: 0.4307 - val_accuracy: 0.8908\n",
      "Epoch 8/10\n",
      "1313/1313 [==============================] - 2s 2ms/step - loss: 0.1110 - accuracy: 0.9589 - val_loss: 0.4276 - val_accuracy: 0.8878\n",
      "Epoch 9/10\n",
      "1313/1313 [==============================] - 2s 2ms/step - loss: 0.1086 - accuracy: 0.9598 - val_loss: 0.4817 - val_accuracy: 0.8764\n",
      "Epoch 10/10\n",
      "1313/1313 [==============================] - 2s 2ms/step - loss: 0.1052 - accuracy: 0.9599 - val_loss: 0.4376 - val_accuracy: 0.8896\n",
      "\n",
      " accuracy:  0.8838 precision:  0.8838 recall:  0.8838 f1 : 0.8838\n"
     ]
    },
    {
     "data": {
      "image/png": "[encoded data removed]",
      "text/plain": [
       "<Figure size 432x288 with 1 Axes>"
      ]
     },
     "metadata": {},
     "output_type": "display_data"
    },
    {
     "data": {
      "image/png": "[encoded data removed]",
      "text/plain": [
       "<Figure size 432x288 with 1 Axes>"
      ]
     },
     "metadata": {},
     "output_type": "display_data"
    },
    {
     "data": {
      "image/png": "[encoded data removed]",
      "text/plain": [
       "<Figure size 432x288 with 1 Axes>"
      ]
     },
     "metadata": {},
     "output_type": "display_data"
    }
   ],
   "source": [
    "# Filter the best model training set and traverse 10 times with epochs\n",
    "# validation_data:Each epoch will be verified with a validation set\n",
    "history = best_model.fit(X_train,y_train,epochs=10,validation_split=0.3)\n",
    "history_predict = best_model.predict(X_test).argmax(1)\n",
    "\n",
    "accuracy = accuracy_score(y_test, history_predict)\n",
    "precision = precision_score(y_test, history_predict, average='micro')\n",
    "recall = recall_score(y_test, history_predict, average='micro')\n",
    "f1 = f1_score(y_test, history_predict, average='micro')\n",
    "print('\\n accuracy: ', accuracy, 'precision: ', precision, 'recall: ', recall ,'f1 :',f1)\n",
    "\n",
    "#Display the history of loss and accuracy\n",
    "history.history\n",
    "\n",
    "\n",
    "# summarize history for accuracy\n",
    "plt.plot(history.history['accuracy'])\n",
    "plt.plot(history.history['val_accuracy'])\n",
    "plt.title('model accuracy')\n",
    "\n",
    "plt.ylabel('accuracy')\n",
    "plt.xlabel('epoch')\n",
    "plt.legend(['train', 'test'], loc='upper left') \n",
    "plt.show()\n",
    "\n",
    "# summarize history for loss plt.plot(history.history['loss']) plt.plot(history.history['val_loss']) plt.title('model loss')\n",
    "plt.plot(history.history['loss'])\n",
    "plt.plot(history.history['val_loss'])\n",
    "plt.title('model loss')\n",
    "plt.ylabel('loss')\n",
    "plt.xlabel('epoch')\n",
    "plt.legend(['train', 'test'], loc='upper left') \n",
    "plt.show()\n",
    "\n",
    "#plot the training loss and accuracy\n",
    "\n",
    "plt.style.use(\"ggplot\")\n",
    "plt.figure()\n",
    "plt.plot(np.arange(0, 10), history.history[\"loss\"], label=\"train_loss\")\n",
    "plt.plot(np.arange(0, 10), history.history[\"val_loss\"], label=\"val_loss\")\n",
    "plt.plot(np.arange(0, 10), history.history[\"accuracy\"], label=\"train_acc\")\n",
    "plt.plot(np.arange(0, 10), history.history[\"val_accuracy\"], label=\"val_acc\")\n",
    "\n",
    "plt.title(\"Training Loss and Accuracy on Dataset\")\n",
    "plt.xlabel(\"Epoch number \")\n",
    "plt.ylabel(\"Loss/Accuracy\")\n",
    "plt.legend(loc=\"lower left\")\n",
    "plt.savefig(\"plot.png\")\n",
    "plt.show()"
   ]
  },
  {
   "cell_type": "code",
   "execution_count": 25,
   "metadata": {},
   "outputs": [
    {
     "data": {
      "text/html": [
       "<div>\n",
       "<style scoped>\n",
       "    .dataframe tbody tr th:only-of-type {\n",
       "        vertical-align: middle;\n",
       "    }\n",
       "\n",
       "    .dataframe tbody tr th {\n",
       "        vertical-align: top;\n",
       "    }\n",
       "\n",
       "    .dataframe thead th {\n",
       "        text-align: right;\n",
       "    }\n",
       "</style>\n",
       "<table border=\"1\" class=\"dataframe\">\n",
       "  <thead>\n",
       "    <tr style=\"text-align: right;\">\n",
       "      <th></th>\n",
       "      <th>loss</th>\n",
       "      <th>accuracy</th>\n",
       "      <th>val_loss</th>\n",
       "      <th>val_accuracy</th>\n",
       "    </tr>\n",
       "  </thead>\n",
       "  <tbody>\n",
       "    <tr>\n",
       "      <th>0</th>\n",
       "      <td>0.128553</td>\n",
       "      <td>0.951024</td>\n",
       "      <td>0.416333</td>\n",
       "      <td>0.884611</td>\n",
       "    </tr>\n",
       "    <tr>\n",
       "      <th>1</th>\n",
       "      <td>0.128011</td>\n",
       "      <td>0.951714</td>\n",
       "      <td>0.395319</td>\n",
       "      <td>0.892778</td>\n",
       "    </tr>\n",
       "    <tr>\n",
       "      <th>2</th>\n",
       "      <td>0.122885</td>\n",
       "      <td>0.954167</td>\n",
       "      <td>0.408219</td>\n",
       "      <td>0.888278</td>\n",
       "    </tr>\n",
       "    <tr>\n",
       "      <th>3</th>\n",
       "      <td>0.120168</td>\n",
       "      <td>0.954929</td>\n",
       "      <td>0.428259</td>\n",
       "      <td>0.884333</td>\n",
       "    </tr>\n",
       "    <tr>\n",
       "      <th>4</th>\n",
       "      <td>0.118065</td>\n",
       "      <td>0.955048</td>\n",
       "      <td>0.420880</td>\n",
       "      <td>0.887556</td>\n",
       "    </tr>\n",
       "    <tr>\n",
       "      <th>5</th>\n",
       "      <td>0.114286</td>\n",
       "      <td>0.957000</td>\n",
       "      <td>0.426465</td>\n",
       "      <td>0.892111</td>\n",
       "    </tr>\n",
       "    <tr>\n",
       "      <th>6</th>\n",
       "      <td>0.115170</td>\n",
       "      <td>0.957643</td>\n",
       "      <td>0.430702</td>\n",
       "      <td>0.890778</td>\n",
       "    </tr>\n",
       "    <tr>\n",
       "      <th>7</th>\n",
       "      <td>0.111044</td>\n",
       "      <td>0.958905</td>\n",
       "      <td>0.427562</td>\n",
       "      <td>0.887833</td>\n",
       "    </tr>\n",
       "    <tr>\n",
       "      <th>8</th>\n",
       "      <td>0.108560</td>\n",
       "      <td>0.959833</td>\n",
       "      <td>0.481691</td>\n",
       "      <td>0.876389</td>\n",
       "    </tr>\n",
       "    <tr>\n",
       "      <th>9</th>\n",
       "      <td>0.105231</td>\n",
       "      <td>0.959929</td>\n",
       "      <td>0.437637</td>\n",
       "      <td>0.889611</td>\n",
       "    </tr>\n",
       "  </tbody>\n",
       "</table>\n",
       "</div>"
      ],
      "text/plain": [
       "       loss  accuracy  val_loss  val_accuracy\n",
       "0  0.128553  0.951024  0.416333      0.884611\n",
       "1  0.128011  0.951714  0.395319      0.892778\n",
       "2  0.122885  0.954167  0.408219      0.888278\n",
       "3  0.120168  0.954929  0.428259      0.884333\n",
       "4  0.118065  0.955048  0.420880      0.887556\n",
       "5  0.114286  0.957000  0.426465      0.892111\n",
       "6  0.115170  0.957643  0.430702      0.890778\n",
       "7  0.111044  0.958905  0.427562      0.887833\n",
       "8  0.108560  0.959833  0.481691      0.876389\n",
       "9  0.105231  0.959929  0.437637      0.889611"
      ]
     },
     "execution_count": 25,
     "metadata": {},
     "output_type": "execute_result"
    }
   ],
   "source": [
    "import pandas as pd\n",
    "pd.DataFrame(history.history)"
   ]
  },
  {
   "cell_type": "code",
   "execution_count": 26,
   "metadata": {},
   "outputs": [
    {
     "name": "stdout",
     "output_type": "stream",
     "text": [
      "Evaluate on test data\n",
      "313/313 [==============================] - 0s 700us/step - loss: 0.4928 - accuracy: 0.8838\n",
      "test loss, test acc: [0.49277281761169434, 0.8838000297546387]\n"
     ]
    }
   ],
   "source": [
    "# Evaluate the best model on the test data using `evaluate`\n",
    "print(\"Evaluate on test data\")\n",
    "results = best_model.evaluate(X_test, y_test)\n",
    "print(\"test loss, test acc:\", results)"
   ]
  },
  {
   "cell_type": "markdown",
   "metadata": {},
   "source": [
    "<p> When we train the two neural network models ,the result showed the second neural network with 5 folds validation,10 times with epochs is better than first neural network. With two training models we trained, the accuracy rate is also improving.</p>\n",
    "<p> we get the average results : accuracy:  0.8838 precision:  0.8838 recall:  0.8838 f1 : 0.8838</p>"
   ]
  },
  {
   "cell_type": "markdown",
   "metadata": {},
   "source": [
    "- Predict the  neural network model"
   ]
  },
  {
   "cell_type": "code",
   "execution_count": 35,
   "metadata": {},
   "outputs": [
    {
     "data": {
      "image/png": "[encoded data removed]",
      "text/plain": [
       "<Figure size 720x720 with 25 Axes>"
      ]
     },
     "metadata": {},
     "output_type": "display_data"
    }
   ],
   "source": [
    "import numpy as np\n",
    "history_predict = best_model.predict(X_test)\n",
    "plt.figure(figsize=(10, 10))\n",
    "for i in range(25):\n",
    "    plt.subplot(5, 5, i + 1)\n",
    "    plt.xticks([])\n",
    "    plt.yticks([])\n",
    "    plt.grid('off')\n",
    "    plt.imshow(X_test[i], cmap=plt.cm.binary)\n",
    "    predicted_label = np.argmax(history_predict[i])\n",
    "    true_label = y_test[i]\n",
    "    if predicted_label == true_label:\n",
    "        color = 'green'\n",
    "    else:\n",
    "        color = 'red'\n",
    "    plt.xlabel(\"{} ({})\".format(class_names[predicted_label],\n",
    "                                class_names[true_label]),\n",
    "               color=color)\n",
    "plt.show()"
   ]
  },
  {
   "cell_type": "markdown",
   "metadata": {},
   "source": [
    "### Model 2-LogisticRegression"
   ]
  },
  {
   "cell_type": "code",
   "execution_count": 36,
   "metadata": {},
   "outputs": [],
   "source": [
    "import collections\n",
    "from sklearn import preprocessing\n",
    "import numpy as np\n",
    "import pandas as pd\n",
    "import time\n",
    "from sklearn import metrics\n",
    "from IPython.display import Markdown, display\n",
    "import random\n",
    "import matplotlib.pyplot as plt\n",
    "\n",
    "%matplotlib inline"
   ]
  },
  {
   "cell_type": "code",
   "execution_count": 37,
   "metadata": {},
   "outputs": [
    {
     "name": "stdout",
     "output_type": "stream",
     "text": [
      "Logitic regression Time: 13.92 minute\n",
      "Best parameter:  {'max_iter': 100, 'tol': 0.0001}\n"
     ]
    }
   ],
   "source": [
    "# caculate logistic regression running time\n",
    "import warnings\n",
    "\n",
    "start = time.time()\n",
    "\n",
    "\n",
    "from sklearn.linear_model import LogisticRegression\n",
    "warnings.filterwarnings('ignore')\n",
    "\n",
    "X_train_flatten = X_train.reshape(X_train.shape[0], -1)\n",
    "param_grid= {\n",
    "    'tol': [0.0001, 0.001],\n",
    "    'max_iter': [100, 200, 300]\n",
    "}\n",
    "grid_lr = GridSearchCV(estimator=LogisticRegression(multi_class='multinomial'),cv=5, param_grid=param_grid)\n",
    "grid_result_lr = grid_lr.fit(X_train_flatten, y_train)\n",
    "grid_result_lr.best_params_\n",
    "\n",
    "\n",
    "end = time.time()\n",
    "logistic_time = end-start\n",
    "print(\"Logitic regression Time: {:0.2f} minute\".format(logistic_time/60.0))\n",
    "print(\"Best parameter: \", grid_result_lr.best_params_)"
   ]
  },
  {
   "cell_type": "code",
   "execution_count": 38,
   "metadata": {},
   "outputs": [
    {
     "name": "stdout",
     "output_type": "stream",
     "text": [
      "accuracy:  0.8398 precision:  0.8398 recall:  0.8398 F1 : 0.8398\n"
     ]
    }
   ],
   "source": [
    "X_test_flatten = X_test.reshape(X_test.shape[0], -1)\n",
    "lr_predict = grid_result.best_estimator_.predict(X_test_flatten)\n",
    "lr_accuracy = accuracy_score(y_test, lr_predict)\n",
    "lr_precision = precision_score(y_test, lr_predict, average='micro')\n",
    "lr_recall = recall_score(y_test, lr_predict, average='micro')\n",
    "lr_f1 = f1_score(y_test, lr_predict, average='micro')\n",
    "print('accuracy: ', lr_accuracy, 'precision: ', lr_precision, 'recall: ', lr_recall,'F1 :',lr_f1)"
   ]
  },
  {
   "cell_type": "markdown",
   "metadata": {},
   "source": [
    "- -----------------------------------------------------------------------"
   ]
  },
  {
   "cell_type": "markdown",
   "metadata": {},
   "source": [
    "- Next ,we use Random Forest,Decision Tree,SVM ,KNN model to train the data performance."
   ]
  },
  {
   "cell_type": "markdown",
   "metadata": {},
   "source": [
    "### Data transformation"
   ]
  },
  {
   "cell_type": "code",
   "execution_count": 39,
   "metadata": {},
   "outputs": [
    {
     "name": "stdout",
     "output_type": "stream",
     "text": [
      "(60000, 784)\n",
      "(10000, 784)\n"
     ]
    }
   ],
   "source": [
    "#Converted into a two-dimensional array\n",
    "X_train_1 = X_train.reshape(X_train.shape[0], -1)\n",
    "X_test_1 = X_test.reshape(X_test.shape[0], -1)\n",
    "print(X_train_1.shape)\n",
    "print(X_test_1.shape)"
   ]
  },
  {
   "cell_type": "markdown",
   "metadata": {},
   "source": [
    "- Running time for Random Forest and Decision Tree"
   ]
  },
  {
   "cell_type": "code",
   "execution_count": 40,
   "metadata": {},
   "outputs": [],
   "source": [
    "from sklearn.ensemble import RandomForestClassifier\n",
    "RandomForestClassifier?"
   ]
  },
  {
   "cell_type": "code",
   "execution_count": 41,
   "metadata": {},
   "outputs": [
    {
     "name": "stdout",
     "output_type": "stream",
     "text": [
      "Random Forest Time: 1.96 minute\n",
      "Decision Tree Time: 0.69 minute\n"
     ]
    }
   ],
   "source": [
    "from sklearn.svm import SVC\n",
    "from sklearn.neighbors import KNeighborsClassifier\n",
    "from sklearn.ensemble import RandomForestClassifier\n",
    "from sklearn.tree import DecisionTreeClassifier\n",
    "\n",
    "\n",
    "# Random Forest\n",
    "start1 = time.time()\n",
    "\n",
    "random_forest = RandomForestClassifier(criterion='entropy', max_depth=70, n_estimators=100)\n",
    "random_forest.fit(X_train_1, y_train)\n",
    "\n",
    "end1 = time.time()\n",
    "forest_time = end1-start1\n",
    "\n",
    "# Decision Tree\n",
    "start2 = time.time()\n",
    "\n",
    "tree = DecisionTreeClassifier(max_depth=100, criterion='entropy')\n",
    "tree.fit(X_train_1, y_train)\n",
    "\n",
    "end2 = time.time()\n",
    "tree_time = end2-start2\n",
    "\n",
    "\n",
    "print(\"Random Forest Time: {:0.2f} minute\".format(forest_time/60.0))\n",
    "print(\"Decision Tree Time: {:0.2f} minute\".format(tree_time/60.0))"
   ]
  },
  {
   "cell_type": "markdown",
   "metadata": {},
   "source": [
    "- 5-fold cross validation for <b> Rondom Forest </b> and <b> Decision Tree</b>"
   ]
  },
  {
   "cell_type": "code",
   "execution_count": 42,
   "metadata": {},
   "outputs": [
    {
     "name": "stdout",
     "output_type": "stream",
     "text": [
      "random_forest 5-fold:\n",
      "accuracy_mean: 0.8835000000000001, precision_mean: 0.8827383868480009, recall_mean: 0.8835000000000001, f1_mean: 0.8818324792358746\n",
      "Decision Tree 5-fold:\n",
      "accuracy_mean: 0.80465, precision_mean: 0.805125185716651, recall_mean: 0.80465, f1_mean: 0.804819737228111\n"
     ]
    }
   ],
   "source": [
    "from sklearn.model_selection import cross_validate\n",
    "\n",
    "scoring = ['accuracy', 'precision_macro', 'recall_macro','f1_macro']\n",
    "k = 5\n",
    "\n",
    "random_forest_cv = cross_validate(random_forest, X_train_1, y_train, scoring=scoring, cv=k)\n",
    "rf_accuracy_mean = random_forest_cv[\"test_accuracy\"].mean()\n",
    "rf_precision_mean = random_forest_cv[\"test_precision_macro\"].mean()\n",
    "rf_recall_mean = random_forest_cv[\"test_recall_macro\"].mean()\n",
    "rf_f1_mean = random_forest_cv[\"test_f1_macro\"].mean()\n",
    "\n",
    "print(f'random_forest {k}-fold:')\n",
    "print(f'accuracy_mean: {rf_accuracy_mean}, precision_mean: {rf_precision_mean}, recall_mean: {rf_recall_mean}, f1_mean: {rf_f1_mean}')\n",
    "\n",
    "\n",
    "\n",
    "tree_cv = cross_validate(tree, X_train_1, y_train, scoring=scoring, cv=k)\n",
    "tree_accuracy_mean = tree_cv[\"test_accuracy\"].mean()\n",
    "tree_precision_mean = tree_cv[\"test_precision_macro\"].mean()\n",
    "tree_recall_mean = tree_cv[\"test_recall_macro\"].mean()\n",
    "tree_f1_mean = tree_cv[\"test_f1_macro\"].mean()\n",
    "\n",
    "print(f'Decision Tree {k}-fold:')\n",
    "print(f'accuracy_mean: {tree_accuracy_mean}, precision_mean: {tree_precision_mean}, recall_mean: {tree_recall_mean}, f1_mean: {tree_f1_mean}')"
   ]
  },
  {
   "cell_type": "markdown",
   "metadata": {},
   "source": [
    "- Running time for SVM and KNN"
   ]
  },
  {
   "cell_type": "code",
   "execution_count": 43,
   "metadata": {},
   "outputs": [
    {
     "name": "stdout",
     "output_type": "stream",
     "text": [
      "SVM Time: 12.26 minute\n",
      "KNN Time: 14.57 minute\n"
     ]
    }
   ],
   "source": [
    "# SVM Model\n",
    "start3 = time.time()\n",
    "\n",
    "svc = SVC(C=1, kernel='linear', gamma=\"auto\")\n",
    "svc.fit(X_train_1, y_train)\n",
    "\n",
    "end3 = time.time()\n",
    "svm_time = end3-start3\n",
    "\n",
    "# KNN Model\n",
    "start4 = time.time()\n",
    "\n",
    "knn = KNeighborsClassifier(n_neighbors=5)\n",
    "knn.fit(X_train_1, y_train)\n",
    "y_pred_knn = knn.predict(X_test_1)\n",
    "\n",
    "end4 = time.time()\n",
    "knn_time = end4-start4\n",
    "print(\"SVM Time: {:0.2f} minute\".format(svm_time/60.0))\n",
    "print(\"KNN Time: {:0.2f} minute\".format(knn_time/60.0))"
   ]
  },
  {
   "cell_type": "markdown",
   "metadata": {},
   "source": [
    "- 5-fold cross validation for <b>SVM</b> and <b>KNN</b>"
   ]
  },
  {
   "cell_type": "code",
   "execution_count": 44,
   "metadata": {},
   "outputs": [
    {
     "name": "stdout",
     "output_type": "stream",
     "text": [
      "SVM 5-fold:\n",
      "accuracy_mean: 0.8552500000000001, precision_mean: 0.8546819771455354, recall_mean: 0.8552500000000001,f1_mean: 0.8544717507698941\n",
      "KNN 5-fold:\n",
      "accuracy_mean: 0.8540000000000001, precision_mean: 0.8568205772037777, recall_mean: 0.8540000000000001, f1_mean: 0.8532605720828637\n"
     ]
    }
   ],
   "source": [
    "from sklearn.model_selection import cross_validate\n",
    "\n",
    "scoring = ['accuracy', 'precision_macro', 'recall_macro','f1_macro']\n",
    "k = 5\n",
    "\n",
    "svc_cv = cross_validate(svc, X_train_1, y_train, scoring=scoring, cv=k)\n",
    "svc_accuracy_mean = svc_cv[\"test_accuracy\"].mean()\n",
    "svc_precision_mean = svc_cv[\"test_precision_macro\"].mean()\n",
    "svc_recall_mean = svc_cv[\"test_recall_macro\"].mean()\n",
    "svc_f1_mean = svc_cv[\"test_f1_macro\"].mean()\n",
    "\n",
    "print(f'SVM {k}-fold:')\n",
    "print(f'accuracy_mean: {svc_accuracy_mean}, precision_mean: {svc_precision_mean}, recall_mean: {svc_recall_mean},f1_mean: {svc_f1_mean}')\n",
    "\n",
    "knn_cv = cross_validate(knn, X_train_1, y_train, scoring=scoring, cv=k)\n",
    "knn_accuracy_mean = knn_cv[\"test_accuracy\"].mean()\n",
    "knn_precision_mean = knn_cv[\"test_precision_macro\"].mean()\n",
    "knn_recall_mean = knn_cv[\"test_recall_macro\"].mean()\n",
    "knn_f1_mean = knn_cv[\"test_f1_macro\"].mean()\n",
    "print(f'KNN {k}-fold:')\n",
    "print(f'accuracy_mean: {knn_accuracy_mean}, precision_mean: {knn_precision_mean}, recall_mean: {knn_recall_mean}, f1_mean: {knn_f1_mean}')"
   ]
  },
  {
   "cell_type": "markdown",
   "metadata": {},
   "source": [
    "- <b>Random Forest</b> report and analysis (without using any features extraction method)"
   ]
  },
  {
   "cell_type": "code",
   "execution_count": 45,
   "metadata": {},
   "outputs": [
    {
     "name": "stdout",
     "output_type": "stream",
     "text": [
      "-----------------Random Forest Report---------------\n",
      "F1 score: 0.8750762976896076\n",
      "Accuracy score: 0.8767\n",
      "Recall score: 0.8767\n",
      "Precision score: 0.8756445011803433\n",
      "\n",
      "Confusion matrix: \n",
      " [[866   0  11  30   5   1  75   0  12   0]\n",
      " [  3 962   1  23   5   0   4   0   2   0]\n",
      " [ 10   0 802  10 120   0  54   0   4   0]\n",
      " [ 18   3  13 907  29   0  28   0   2   0]\n",
      " [  1   0  91  38 817   0  51   0   2   0]\n",
      " [  0   0   0   1   0 956   0  31   1  11]\n",
      " [154   1 123  29  88   1 584   0  20   0]\n",
      " [  0   0   0   0   0  13   0 951   0  36]\n",
      " [  2   2   2   2   6   1   4   4 976   1]\n",
      " [  0   0   0   0   0   8   0  43   3 946]]\n",
      "              precision    recall  f1-score   support\n",
      "\n",
      "           0       0.82      0.87      0.84      1000\n",
      "           1       0.99      0.96      0.98      1000\n",
      "           2       0.77      0.80      0.79      1000\n",
      "           3       0.87      0.91      0.89      1000\n",
      "           4       0.76      0.82      0.79      1000\n",
      "           5       0.98      0.96      0.97      1000\n",
      "           6       0.73      0.58      0.65      1000\n",
      "           7       0.92      0.95      0.94      1000\n",
      "           8       0.95      0.98      0.97      1000\n",
      "           9       0.95      0.95      0.95      1000\n",
      "\n",
      "    accuracy                           0.88     10000\n",
      "   macro avg       0.88      0.88      0.88     10000\n",
      "weighted avg       0.88      0.88      0.88     10000\n",
      "\n"
     ]
    }
   ],
   "source": [
    "# Random Forest report and analysis\n",
    "y_pred_forest = random_forest.predict(X_test_1)\n",
    "random_forest_f1 = metrics.f1_score(y_test, y_pred_forest, average= \"weighted\")\n",
    "random_forest_accuracy = metrics.accuracy_score(y_test, y_pred_forest)\n",
    "random_forest_recall = metrics.recall_score(y_test, y_pred_forest, average= \"weighted\")\n",
    "random_forest_precision = metrics.precision_score(y_test, y_pred_forest, average= \"weighted\")\n",
    "random_forest_cm = metrics.confusion_matrix(y_test, y_pred_forest)\n",
    "print(\"-----------------Random Forest Report---------------\")\n",
    "print(\"F1 score: {}\".format(random_forest_f1))\n",
    "print(\"Accuracy score: {}\".format(random_forest_accuracy))\n",
    "print(\"Recall score: {}\".format(random_forest_recall))\n",
    "print(\"Precision score: {}\\n\".format(random_forest_precision))\n",
    "print(\"Confusion matrix: \\n\", random_forest_cm)\n",
    "print(metrics.classification_report(y_test, y_pred_forest))"
   ]
  },
  {
   "cell_type": "markdown",
   "metadata": {},
   "source": [
    "- <b>Decision Tree </b>report and analysis(without using any features extraction method)"
   ]
  },
  {
   "cell_type": "code",
   "execution_count": 46,
   "metadata": {},
   "outputs": [
    {
     "name": "stdout",
     "output_type": "stream",
     "text": [
      "-----------------Decision Tree Report---------------\n",
      "F1 score: 0.8011002506159314\n",
      "Accuracy score: 0.8005\n",
      "Recall score: 0.8005\n",
      "Precision score: 0.8020010572996605\n",
      "\n",
      "Confusion matrix: \n",
      " [[733   4  23  41  10   4 173   1   9   2]\n",
      " [  6 949   7  23   4   0   8   0   3   0]\n",
      " [ 20   0 683  18 141   0 127   0  10   1]\n",
      " [ 43  29  16 786  61   0  54   0   9   2]\n",
      " [ 11   2 160  42 669   0 109   0   7   0]\n",
      " [  2   1   1   2   1 896   1  62   8  26]\n",
      " [135   9 116  35 100   1 574   0  29   1]\n",
      " [  0   0   0   0   0  62   0 884   5  49]\n",
      " [  5   5  12   9   4  11  14   9 925   6]\n",
      " [  0   1   1   0   0  21   0  67   4 906]]\n",
      "              precision    recall  f1-score   support\n",
      "\n",
      "           0       0.77      0.73      0.75      1000\n",
      "           1       0.95      0.95      0.95      1000\n",
      "           2       0.67      0.68      0.68      1000\n",
      "           3       0.82      0.79      0.80      1000\n",
      "           4       0.68      0.67      0.67      1000\n",
      "           5       0.90      0.90      0.90      1000\n",
      "           6       0.54      0.57      0.56      1000\n",
      "           7       0.86      0.88      0.87      1000\n",
      "           8       0.92      0.93      0.92      1000\n",
      "           9       0.91      0.91      0.91      1000\n",
      "\n",
      "    accuracy                           0.80     10000\n",
      "   macro avg       0.80      0.80      0.80     10000\n",
      "weighted avg       0.80      0.80      0.80     10000\n",
      "\n"
     ]
    }
   ],
   "source": [
    "# Decision Tree report and analysis\n",
    "y_pred_tree = tree.predict(X_test_1)\n",
    "tree_f1 = metrics.f1_score(y_test, y_pred_tree, average= \"weighted\")\n",
    "tree_accuracy = metrics.accuracy_score(y_test, y_pred_tree)\n",
    "tree_recall = metrics.recall_score(y_test, y_pred_tree, average= \"weighted\")\n",
    "tree_precision = metrics.precision_score(y_test, y_pred_tree, average= \"weighted\")\n",
    "\n",
    "tree_cm = metrics.confusion_matrix(y_test, y_pred_tree)\n",
    "print(\"-----------------Decision Tree Report---------------\")\n",
    "print(\"F1 score: {}\".format(tree_f1))\n",
    "print(\"Accuracy score: {}\".format(tree_accuracy))\n",
    "print(\"Recall score: {}\".format(tree_recall))\n",
    "print(\"Precision score: {}\\n\".format(tree_precision))\n",
    "\n",
    "print(\"Confusion matrix: \\n\", tree_cm)\n",
    "\n",
    "\n",
    "print(metrics.classification_report(y_test, y_pred_tree))"
   ]
  },
  {
   "cell_type": "markdown",
   "metadata": {},
   "source": [
    "- <b>SVM</b> report and analysis(without using any features extraction method)"
   ]
  },
  {
   "cell_type": "code",
   "execution_count": 47,
   "metadata": {},
   "outputs": [
    {
     "name": "stdout",
     "output_type": "stream",
     "text": [
      "-----------------SVM Report---------------\n",
      "F1 score: 0.8456969698281024\n",
      "Accuracy score: 0.8464\n",
      "Recall score: 0.8464\n",
      "Precision score: 0.8457883954572292\n",
      "\n",
      "Confusion matrix: \n",
      " [[815   2  13  45   4   1 108   0  12   0]\n",
      " [  6 962   2  22   3   0   4   0   1   0]\n",
      " [ 22   6 769   8 109   0  79   0   7   0]\n",
      " [ 54  15  19 842  27   0  40   0   3   0]\n",
      " [  1   2 113  33 774   0  72   0   5   0]\n",
      " [  1   0   0   1   0 936   0  38   3  21]\n",
      " [174   2 122  30  93   0 562   0  17   0]\n",
      " [  0   0   0   0   0  38   0 934   1  27]\n",
      " [ 12   1   8   8   2  15  25   4 925   0]\n",
      " [  0   0   0   0   0  15   1  39   0 945]]\n",
      "Plotting confusion matrix\n",
      "              precision    recall  f1-score   support\n",
      "\n",
      "           0       0.75      0.81      0.78      1000\n",
      "           1       0.97      0.96      0.97      1000\n",
      "           2       0.74      0.77      0.75      1000\n",
      "           3       0.85      0.84      0.85      1000\n",
      "           4       0.76      0.77      0.77      1000\n",
      "           5       0.93      0.94      0.93      1000\n",
      "           6       0.63      0.56      0.59      1000\n",
      "           7       0.92      0.93      0.93      1000\n",
      "           8       0.95      0.93      0.94      1000\n",
      "           9       0.95      0.94      0.95      1000\n",
      "\n",
      "    accuracy                           0.85     10000\n",
      "   macro avg       0.85      0.85      0.85     10000\n",
      "weighted avg       0.85      0.85      0.85     10000\n",
      "\n"
     ]
    }
   ],
   "source": [
    "# SVM report and analysis\n",
    "from sklearn.metrics import plot_confusion_matrix\n",
    "y_pred_svc = svc.predict(X_test_1)\n",
    "svc_f1 = f1_score(y_test, y_pred_svc, average= \"weighted\")\n",
    "svc_accuracy = accuracy_score(y_test, y_pred_svc)\n",
    "svc_recall = metrics.recall_score(y_test, y_pred_svc, average= \"weighted\")\n",
    "svc_precision = metrics.precision_score(y_test, y_pred_svc, average= \"weighted\")\n",
    "\n",
    "svc_cm = metrics.confusion_matrix(y_test, y_pred_svc)\n",
    "print(\"-----------------SVM Report---------------\")\n",
    "print(\"F1 score: {}\".format(svc_f1))\n",
    "print(\"Accuracy score: {}\".format(svc_accuracy))\n",
    "print(\"Recall score: {}\".format(svc_recall))\n",
    "print(\"Precision score: {}\\n\".format(svc_precision))\n",
    "\n",
    "print(\"Confusion matrix: \\n\", svc_cm)\n",
    "print('Plotting confusion matrix')\n",
    "\n",
    "\n",
    "print(metrics.classification_report(y_test, y_pred_svc))"
   ]
  },
  {
   "cell_type": "markdown",
   "metadata": {},
   "source": [
    "- <b>KNN</b> report and analysis(without using any features extraction method)"
   ]
  },
  {
   "cell_type": "code",
   "execution_count": 48,
   "metadata": {},
   "outputs": [
    {
     "name": "stdout",
     "output_type": "stream",
     "text": [
      "-----------------K-nearest neighbors Report---------------\n",
      "F1 score: 0.8546439722018904\n",
      "Accuracy score: 0.8554\n",
      "Recall score: 0.8554\n",
      "Precision score: 0.8578152450755355\n",
      "\n",
      "Confusion matrix: \n",
      " [[855   1  17  16   3   1 100   1   6   0]\n",
      " [  8 968   4  12   4   0   3   0   1   0]\n",
      " [ 24   2 819  11  75   0  69   0   0   0]\n",
      " [ 41   8  15 860  39   0  34   0   3   0]\n",
      " [  2   1 126  26 773   0  71   0   1   0]\n",
      " [  1   0   0   0   0 822   5  96   1  75]\n",
      " [176   1 132  23  80   0 575   0  13   0]\n",
      " [  0   0   0   0   0   3   0 961   0  36]\n",
      " [  2   0  10   4   7   0  16   7 953   1]\n",
      " [  0   0   0   0   0   2   1  29   0 968]]\n",
      "              precision    recall  f1-score   support\n",
      "\n",
      "           0       0.77      0.85      0.81      1000\n",
      "           1       0.99      0.97      0.98      1000\n",
      "           2       0.73      0.82      0.77      1000\n",
      "           3       0.90      0.86      0.88      1000\n",
      "           4       0.79      0.77      0.78      1000\n",
      "           5       0.99      0.82      0.90      1000\n",
      "           6       0.66      0.57      0.61      1000\n",
      "           7       0.88      0.96      0.92      1000\n",
      "           8       0.97      0.95      0.96      1000\n",
      "           9       0.90      0.97      0.93      1000\n",
      "\n",
      "    accuracy                           0.86     10000\n",
      "   macro avg       0.86      0.86      0.85     10000\n",
      "weighted avg       0.86      0.86      0.85     10000\n",
      "\n"
     ]
    }
   ],
   "source": [
    "# KNN report and analysis\n",
    "knn_f1 = metrics.f1_score(y_test, y_pred_knn, average= \"weighted\")\n",
    "knn_accuracy = metrics.accuracy_score(y_test, y_pred_knn)\n",
    "knn_precision = metrics.precision_score(y_test, y_pred_knn, average= \"weighted\")\n",
    "knn_accuracy = metrics.accuracy_score(y_test, y_pred_knn)\n",
    "knn_recall = metrics.recall_score(y_test, y_pred_knn, average= \"weighted\")\n",
    "knn_precision = metrics.precision_score(y_test, y_pred_knn, average= \"weighted\")\n",
    "knn_cm = metrics.confusion_matrix(y_test, y_pred_knn)\n",
    "print(\"-----------------K-nearest neighbors Report---------------\")\n",
    "print(\"F1 score: {}\".format(knn_f1))\n",
    "print(\"Accuracy score: {}\".format(knn_accuracy))\n",
    "print(\"Recall score: {}\".format(knn_recall))\n",
    "print(\"Precision score: {}\\n\".format(knn_precision))\n",
    "print(\"Confusion matrix: \\n\", knn_cm)\n",
    "\n",
    "print(metrics.classification_report(y_test, y_pred_knn))"
   ]
  },
  {
   "cell_type": "markdown",
   "metadata": {},
   "source": [
    "------------------------------------------------------"
   ]
  },
  {
   "cell_type": "markdown",
   "metadata": {},
   "source": [
    "### Task 1 Summary :"
   ]
  },
  {
   "cell_type": "markdown",
   "metadata": {},
   "source": [
    "The best model is <b>neural network model</b>. And accuracy rate,precision score, recall score ,F1 socre is the highest compare with other models. Here is the summary score as the following:"
   ]
  },
  {
   "cell_type": "markdown",
   "metadata": {},
   "source": [
    " - 5-fold cross valiadation model"
   ]
  },
  {
   "cell_type": "markdown",
   "metadata": {},
   "source": [
    "|   Model   |   Accuracy   |   Precision   |   Recall   |   F1   |\n",
    "| ----- | ----- | ----- | ----- | ----- |\n",
    "| 5-fold Neural network | 0.8838 | 0.8838 | 0.8838| 0.8838  | \n",
    "| 5-fold Logistic regression | 0.8398 | 0.8398 | 0.8398| 0.8398  | \n",
    "| 5-Fold Random forest | 0.8835 | 0.8827 | 0.8835 | 0.8818 | \n",
    "| 5-Fold Decision Tree | 0.8046 | 0.8051| 0.8846 | 0.8048 | \n",
    "| 5-Fold SVM | 0.8552 | 0.8546 | 0.8552 | 0.8547 | \n",
    "| 5-Fold KNN | 0.8540 | 0.8568 | 0.8540 | 0.8532 |"
   ]
  },
  {
   "cell_type": "markdown",
   "metadata": {},
   "source": [
    "- Without features default model"
   ]
  },
  {
   "cell_type": "markdown",
   "metadata": {},
   "source": [
    "|   Model   |   Accuracy   |   Precision   |   Recall   |   F1   |\n",
    "| ----- | ----- | ----- | ----- | ----- |\n",
    "| Random forest | 0.8767 | 0.8756 | 0.8767 | 0.8750 | \n",
    "| Decision Tree | 0.8005 | 0.8020| 0.8005 | 0.8011 | \n",
    "| SVM | 0.8464 | 0.8457 | 0.8464 | 0.8456 | \n",
    "| KNN | 0.8554 | 0.8578 | 0.8554 | 0.8546 |"
   ]
  },
  {
   "cell_type": "markdown",
   "metadata": {},
   "source": [
    "- For evaluate those above models, use <b> 5 folds cross valiadation method</b> and <b>without features default method</b> to compare different results.\n",
    "- We found in test set, the performance like accuracy rate, f1 score,etc ,where the cross validation methods is better than the default model( without features).Especially on the basis of 5 fold cross valiadation in neural network model, 10 times of epoch are added, which leads to an increase in the (accurate)recognition rate of pictures at the same time. \n"
   ]
  },
  {
   "cell_type": "markdown",
   "metadata": {},
   "source": [
    "- The reason is that cross-validation is used to evaluate the prediction performance of the model, especially the performance of a trained model on new data, which can reduce overfitting to a certain extent. We can also obtain as much effective information as possible from limited data."
   ]
  },
  {
   "cell_type": "markdown",
   "metadata": {},
   "source": [
    "- In out of sample data ,best test model is 5-fold cross valiadation model - Neural network model, the accuracy rate is 88.38%% ,higher accuracy indicates that the test set predicts better in image recognition .<br>The second best model is Random forest with 5-fold cross valiadation, accuracy rate is 88.35%, both model difference is small.\n",
    "<br>We will compare and predict those models in task 2."
   ]
  },
  {
   "cell_type": "markdown",
   "metadata": {},
   "source": [
    "# Task 2 "
   ]
  },
  {
   "cell_type": "markdown",
   "metadata": {},
   "source": [
    "- From the above task 1 , we get the best model is <b>neural network</b>,beacuse the highest accuracy rate is 88%."
   ]
  },
  {
   "cell_type": "markdown",
   "metadata": {},
   "source": [
    "- The accuracy of the two models is similar, but I still want to predict which model is more accurate in predicting the image label."
   ]
  },
  {
   "cell_type": "markdown",
   "metadata": {},
   "source": [
    "<b>First best model- Neural network</b>"
   ]
  },
  {
   "cell_type": "code",
   "execution_count": 68,
   "metadata": {
    "scrolled": true
   },
   "outputs": [],
   "source": [
    "import os\n",
    "from PIL import Image\n",
    "import numpy as np\n",
    "\n",
    "\n",
    "test_img = []\n",
    "img_names = []\n",
    "for file in os.listdir('task2 pictures'):\n",
    "    image = Image.open(f'task2 pictures/{file}').convert('L').resize((28, 28))#grayscale\n",
    "    img_data = np.array(image.getdata()) / 255\n",
    "    # white background\n",
    "    img_data[img_data == 1] = 0\n",
    "    test_img.append(img_data)\n",
    "    img_names.append(file.split('.')[0])\n",
    "test_img = np.array(test_img).reshape(len(test_img), 28,28)"
   ]
  },
  {
   "cell_type": "code",
   "execution_count": 69,
   "metadata": {},
   "outputs": [
    {
     "name": "stdout",
     "output_type": "stream",
     "text": [
      "(60000, 28, 28)\n",
      "(10000, 28, 28)\n"
     ]
    }
   ],
   "source": [
    "X_train = X_train_1.reshape(X_train_1.shape[0], X_train.shape[2],-1)\n",
    "X_test = X_test_1.reshape(X_test_1.shape[0], X_test.shape[2],-1)\n",
    "print(X_train.shape)\n",
    "print(X_test.shape)"
   ]
  },
  {
   "cell_type": "code",
   "execution_count": 70,
   "metadata": {},
   "outputs": [],
   "source": [
    "# Avoid tensorflow version warning"
   ]
  },
  {
   "cell_type": "code",
   "execution_count": 71,
   "metadata": {},
   "outputs": [],
   "source": [
    "import traceback\n",
    "import contextlib\n",
    "\n",
    "\n",
    "# Some helper code to demonstrate the kinds of errors you might encounter.\n",
    "@contextlib.contextmanager\n",
    "def assert_raises(error_class):\n",
    "    try:\n",
    "        yield\n",
    "    except error_class as e:\n",
    "        print('Caught expected exception \\n  {}:'.format(error_class))\n",
    "        traceback.print_exc(limit=2)\n",
    "    except Exception as e:\n",
    "        raise e\n",
    "    else:\n",
    "        raise Exception('Expected {} to be raised but no error was raised!'.format(error_class))"
   ]
  },
  {
   "cell_type": "code",
   "execution_count": 72,
   "metadata": {},
   "outputs": [
    {
     "name": "stdout",
     "output_type": "stream",
     "text": [
      "1875/1875 [==============================] - 3s 1ms/step - loss: 0.4791 - accuracy: 0.8292\n"
     ]
    },
    {
     "data": {
      "text/plain": [
       "<tensorflow.python.keras.callbacks.History at 0x16837c36220>"
      ]
     },
     "execution_count": 72,
     "metadata": {},
     "output_type": "execute_result"
    }
   ],
   "source": [
    "from sklearn.model_selection import GridSearchCV\n",
    "\n",
    "best1_model = create_model(grid_result.best_params_['layer'])\n",
    "\n",
    "best1_model.fit(X_train, y_train)"
   ]
  },
  {
   "cell_type": "markdown",
   "metadata": {},
   "source": [
    "- Visualize all the images"
   ]
  },
  {
   "cell_type": "code",
   "execution_count": 73,
   "metadata": {},
   "outputs": [
    {
     "data": {
      "text/plain": [
       "<Figure size 720x720 with 0 Axes>"
      ]
     },
     "metadata": {},
     "output_type": "display_data"
    },
    {
     "data": {
      "image/png": "[encoded data removed]",
      "text/plain": [
       "<Figure size 720x720 with 5 Axes>"
      ]
     },
     "metadata": {},
     "output_type": "display_data"
    }
   ],
   "source": [
    "plt.figure(figsize=(10, 10))\n",
    "fig, ax = plt.subplots(1, 5, figsize=(10, 10)) \n",
    "cnn_predict = best1_model.predict(test_img).argmax(1)\n",
    "for i in range(5):\n",
    "    plt.subplot(5, 5, i + 1)\n",
    "    plt.xticks([])\n",
    "    plt.yticks([])\n",
    "    plt.grid('off')\n",
    "    plt.imshow(test_img[i], cmap=plt.cm.binary)\n",
    "    predicted_label = class_names[cnn_predict[i]]\n",
    "    true_label = img_names[i]\n",
    "    if true_label in predicted_label:\n",
    "        color = 'green'\n",
    "    else:\n",
    "        color = 'red'\n",
    "    plt.xlabel(\"{} ({})\".format(predicted_label, true_label),color=color)\n",
    "plt.show()"
   ]
  },
  {
   "cell_type": "code",
   "execution_count": 74,
   "metadata": {},
   "outputs": [
    {
     "name": "stdout",
     "output_type": "stream",
     "text": [
      "{0: 'T-shirt/top', 1: 'Trouser', 2: 'Pullover', 3: 'Dress', 4: 'Coat', 5: 'Sandal', 6: 'Shirt', 7: 'Sneaker', 8: 'Bag', 9: 'Ankle boot'}\n"
     ]
    }
   ],
   "source": [
    "class_names = np.array(['T-shirt/top','Trouser','Pullover','Dress','Coat','Sandal','Shirt','Sneaker','Bag','Ankle boot'])\n",
    "index = np.array([0,1,2,3,4,5,6,7,8,9])\n",
    "keys=index\n",
    "values = class_names\n",
    "newsort = dict(zip(keys,values))\n",
    "\n",
    "print(newsort)"
   ]
  },
  {
   "cell_type": "code",
   "execution_count": 75,
   "metadata": {},
   "outputs": [
    {
     "name": "stdout",
     "output_type": "stream",
     "text": [
      "Label prediction for index 8\n"
     ]
    }
   ],
   "source": [
    "print('Label prediction for index %d' %cnn_predict[0])"
   ]
  },
  {
   "cell_type": "markdown",
   "metadata": {},
   "source": [
    "- <b>How accurate is the final result?</b>\n",
    "<p> From the above neural network, those all images was identified correctly.And each label also be correctly identified."
   ]
  },
  {
   "cell_type": "markdown",
   "metadata": {},
   "source": [
    "<b>（optional) Second best model - Random Forest</b>"
   ]
  },
  {
   "cell_type": "code",
   "execution_count": 57,
   "metadata": {},
   "outputs": [],
   "source": [
    "import os\n",
    "from PIL import Image\n",
    "import numpy as np\n",
    "\n",
    "\n",
    "test_img = []\n",
    "img_names = []\n",
    "for file in os.listdir('task2 pictures'):\n",
    "    image = Image.open(f'task2 pictures/{file}').convert('L').resize((28,28))#grayscale\n",
    "    img_data = np.array(image.getdata()) / 255\n",
    "    # make white background \n",
    "    img_data[img_data == 1] = 0\n",
    "    test_img.append(img_data)\n",
    "    img_names.append(file.split('.')[0])\n",
    "test_img = np.array(test_img).reshape(5, 28*28)"
   ]
  },
  {
   "cell_type": "code",
   "execution_count": 58,
   "metadata": {},
   "outputs": [
    {
     "name": "stdout",
     "output_type": "stream",
     "text": [
      "(5, 784)\n"
     ]
    }
   ],
   "source": [
    "print(test_img.shape)"
   ]
  },
  {
   "cell_type": "code",
   "execution_count": 59,
   "metadata": {},
   "outputs": [
    {
     "name": "stdout",
     "output_type": "stream",
     "text": [
      "(60000, 784)\n",
      "(10000, 784)\n"
     ]
    }
   ],
   "source": [
    "X_train_2 = X_train.reshape(X_train.shape[0], -1)\n",
    "X_test_2 = X_test.reshape(X_test.shape[0], -1)\n",
    "print(X_train_2.shape)\n",
    "print(X_test_2.shape)"
   ]
  },
  {
   "cell_type": "code",
   "execution_count": 60,
   "metadata": {},
   "outputs": [
    {
     "data": {
      "text/plain": [
       "RandomForestClassifier(criterion='entropy', max_depth=70)"
      ]
     },
     "execution_count": 60,
     "metadata": {},
     "output_type": "execute_result"
    }
   ],
   "source": [
    "from sklearn.ensemble import RandomForestClassifier\n",
    "random_forest = RandomForestClassifier(criterion='entropy', max_depth=70, n_estimators=100)\n",
    "random_forest.fit(X_train_2, y_train)"
   ]
  },
  {
   "cell_type": "code",
   "execution_count": 61,
   "metadata": {},
   "outputs": [
    {
     "data": {
      "text/plain": [
       "array([8, 4, 6, 0, 1], dtype=uint8)"
      ]
     },
     "execution_count": 61,
     "metadata": {},
     "output_type": "execute_result"
    }
   ],
   "source": [
    "random_forest.predict(test_img.reshape(test_img.shape[0], -1))"
   ]
  },
  {
   "cell_type": "markdown",
   "metadata": {},
   "source": [
    "- Visualize all the images"
   ]
  },
  {
   "cell_type": "code",
   "execution_count": 67,
   "metadata": {},
   "outputs": [
    {
     "data": {
      "text/plain": [
       "<Figure size 720x720 with 0 Axes>"
      ]
     },
     "metadata": {},
     "output_type": "display_data"
    },
    {
     "data": {
      "image/png": "[encoded data removed]",
      "text/plain": [
       "<Figure size 720x720 with 5 Axes>"
      ]
     },
     "metadata": {},
     "output_type": "display_data"
    }
   ],
   "source": [
    "plt.figure(figsize=(10, 10))\n",
    "fig, ax = plt.subplots(1, 5, figsize=(10, 10)) \n",
    "rdm_predict = random_forest.predict(test_img)\n",
    "for i in range(5):\n",
    "    plt.subplot(5, 5, i + 1)\n",
    "    plt.xticks([])\n",
    "    plt.yticks([])\n",
    "    plt.grid('off')\n",
    "    plt.imshow(test_img[i].reshape(28, 28), cmap=plt.cm.binary)\n",
    "    predicted_label = class_names[rdm_predict[i]]\n",
    "    true_label = img_names[i]\n",
    "    if true_label in predicted_label:\n",
    "        color = 'green'\n",
    "    else:\n",
    "        color = 'red'\n",
    "    plt.xlabel(\"{} ({})\".format(predicted_label, true_label),color=color)\n",
    "plt.show()"
   ]
  },
  {
   "cell_type": "code",
   "execution_count": 63,
   "metadata": {},
   "outputs": [
    {
     "name": "stdout",
     "output_type": "stream",
     "text": [
      "{0: 'T-shirt/top', 1: 'Trouser', 2: 'Pullover', 3: 'Dress', 4: 'Coat', 5: 'Sandal', 6: 'Shirt', 7: 'Sneaker', 8: 'Bag', 9: 'Ankle boot'}\n"
     ]
    }
   ],
   "source": [
    "class_names = np.array(['T-shirt/top','Trouser','Pullover','Dress','Coat','Sandal','Shirt','Sneaker','Bag','Ankle boot'])\n",
    "index = np.array([0,1,2,3,4,5,6,7,8,9])\n",
    "class_names = np.array(['T-shirt/top','Trouser','Pullover','Dress','Coat','Sandal','Shirt','Sneaker','Bag','Ankle boot'])\n",
    "index = np.array([0,1,2,3,4,5,6,7,8,9])\n",
    "keys=index\n",
    "values = class_names\n",
    "newsort = dict(zip(keys,values))\n",
    "\n",
    "print(newsort)"
   ]
  },
  {
   "cell_type": "code",
   "execution_count": 64,
   "metadata": {},
   "outputs": [
    {
     "name": "stdout",
     "output_type": "stream",
     "text": [
      "Label prediction for index 8\n"
     ]
    }
   ],
   "source": [
    "print('Label prediction for index %d' %rdm_predict[0])"
   ]
  },
  {
   "cell_type": "markdown",
   "metadata": {},
   "source": [
    "- <b>How accurate is the final result?</b>\n",
    "<p> From the above random forest model, above 5 images, one of images was not identified correctly,pullover is recognized as coat.But the error is not particularly large."
   ]
  },
  {
   "cell_type": "markdown",
   "metadata": {},
   "source": [
    "### Task 2 Summary"
   ]
  },
  {
   "cell_type": "markdown",
   "metadata": {},
   "source": [
    "<p>Neural network is better than other models in image recognition.In Neural network model, all images are correctly recognized.In random forest model, only one image was not recognized, but this does not prevent the advantages of these two models in recognizing images, although both accurate rate is similar.</p>"
   ]
  },
  {
   "cell_type": "markdown",
   "metadata": {},
   "source": [
    "# Thank you so much!"
   ]
  },
  {
   "cell_type": "markdown",
   "metadata": {},
   "source": [
    "### Output"
   ]
  },
  {
   "cell_type": "markdown",
   "metadata": {},
   "source": [
    "<ul>\n",
    "    <li>Make sure to put descriptive comments on your code</li>\n",
    "    <li>Use the markdown cell format in Jupiter to add your own interpretation to the result in each section.</li>\n",
    "    <li>Make sure to keep the output of your runs when you want to save the final version of the file.</li>\n",
    "    <li>The final work should be very well structured and should have a consistent flow of analysis.</li>\n",
    "</ul>"
   ]
  },
  {
   "cell_type": "markdown",
   "metadata": {},
   "source": [
    "#### Due Date: Nov 9 2020 at 11:59 PM"
   ]
  },
  {
   "cell_type": "markdown",
   "metadata": {},
   "source": [
    "## Grading Criteria"
   ]
  },
  {
   "cell_type": "markdown",
   "metadata": {},
   "source": [
    "<table style=\"width:400px;height:200px;border:1px black solid; background-color:white\">\n",
    "    <tr style=\"background-color:white\">\n",
    "        <th style=\"text-align:left;border:1px black solid\">Comprehensiveness</th>\n",
    "        <td style=\"text-align:center;border:1px black solid\"><b>30%</b></td>\n",
    "    </tr>\n",
    "    <tr style=\"background-color:white\">\n",
    "        <th style=\"text-align:left;border:1px black solid\">Correctness</th>\n",
    "        <td style=\"text-align:center;border:1px black solid\"><b>20%</b></td>\n",
    "    </tr>\n",
    "    <tr style=\"background-color:white\">\n",
    "        <th style=\"text-align:left;border:1px black solid\">Complete Report</th>\n",
    "        <td style=\"text-align:center;border:1px black solid\"><b>20%</b></td>\n",
    "    </tr>\n",
    "    <tr style=\"background-color:white\">\n",
    "        <th style=\"text-align:left;border:1px black solid\">Clear Code</th>\n",
    "        <td style=\"text-align:center;border:1px black solid\"><b>20%</b></td>\n",
    "    </tr>\n",
    "    <tr style=\"background-color:white\">\n",
    "        <th style=\"text-align:left;border:1px black solid\">Innovation (Extra)</th>\n",
    "        <td style=\"text-align:center;border:1px black solid\"><b>20%</b></td>\n",
    "    </tr>\n",
    "    <tr style=\"background-color:white\">\n",
    "        <th style=\"text-align:center;border:1px black solid;color:red\"><u>Total</u></th>\n",
    "        <td style=\"text-align:center;border:1px black solid;color:red\"><b stlyle=\"color:red\">110%</b></td>\n",
    "    </tr>\n",
    "</table>"
   ]
  }
 ],
 "metadata": {
  "kernelspec": {
   "display_name": "Python 3",
   "language": "python",
   "name": "python3"
  },
  "language_info": {
   "codemirror_mode": {
    "name": "ipython",
    "version": 3
   },
   "file_extension": ".py",
   "mimetype": "text/x-python",
   "name": "python",
   "nbconvert_exporter": "python",
   "pygments_lexer": "ipython3",
   "version": "3.8.5"
  }
 },
 "nbformat": 4,
 "nbformat_minor": 4
}
